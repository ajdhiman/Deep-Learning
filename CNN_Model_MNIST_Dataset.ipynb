{
  "nbformat": 4,
  "nbformat_minor": 0,
  "metadata": {
    "colab": {
      "provenance": [],
      "gpuType": "T4",
      "authorship_tag": "ABX9TyMz9xHpFW32iOa9xcMwiXYh",
      "include_colab_link": true
    },
    "kernelspec": {
      "name": "python3",
      "display_name": "Python 3"
    },
    "language_info": {
      "name": "python"
    },
    "accelerator": "GPU"
  },
  "cells": [
    {
      "cell_type": "markdown",
      "metadata": {
        "id": "view-in-github",
        "colab_type": "text"
      },
      "source": [
        "<a href=\"https://colab.research.google.com/github/ajdhiman/Deep-Learning/blob/main/CNN_Model_MNIST_Dataset.ipynb\" target=\"_parent\"><img src=\"https://colab.research.google.com/assets/colab-badge.svg\" alt=\"Open In Colab\"/></a>"
      ]
    },
    {
      "cell_type": "code",
      "execution_count": 1,
      "metadata": {
        "id": "xGPiBnj9w34W"
      },
      "outputs": [],
      "source": [
        "import tensorflow as tf\n",
        "import numpy as np\n",
        "import matplotlib.pyplot as plt\n",
        "import pandas as pd\n",
        "import seaborn as sns"
      ]
    },
    {
      "cell_type": "code",
      "source": [
        "mnist = tf.keras.datasets.mnist\n",
        "(xTrainFull, yTrainFull),(xTest, yTest) = mnist.load_data()"
      ],
      "metadata": {
        "colab": {
          "base_uri": "https://localhost:8080/"
        },
        "id": "f23gzdftxAyP",
        "outputId": "8203d38c-ebee-4950-f5f5-93aa2d32a21d"
      },
      "execution_count": 2,
      "outputs": [
        {
          "output_type": "stream",
          "name": "stdout",
          "text": [
            "Downloading data from https://storage.googleapis.com/tensorflow/tf-keras-datasets/mnist.npz\n",
            "11490434/11490434 [==============================] - 1s 0us/step\n"
          ]
        }
      ]
    },
    {
      "cell_type": "code",
      "source": [
        "xTrainFull.shape"
      ],
      "metadata": {
        "colab": {
          "base_uri": "https://localhost:8080/"
        },
        "id": "Ts-5Ei5ixDTj",
        "outputId": "fbfcb257-bb18-4ae5-be38-835fbe0d7dd6"
      },
      "execution_count": 3,
      "outputs": [
        {
          "output_type": "execute_result",
          "data": {
            "text/plain": [
              "(60000, 28, 28)"
            ]
          },
          "metadata": {},
          "execution_count": 3
        }
      ]
    },
    {
      "cell_type": "code",
      "source": [
        "xValid, xTrain =  xTrainFull[:5000]/255, xTrainFull[5000:]/255\n",
        "yValid, yTrain =  yTrainFull[:5000], yTrainFull[5000:]\n",
        "\n",
        "xTest = xTest/255"
      ],
      "metadata": {
        "id": "TzU6qJOaxGzM"
      },
      "execution_count": 4,
      "outputs": []
    },
    {
      "cell_type": "code",
      "source": [
        "xTrain = np.expand_dims(xTrain, -1)\n",
        "xValid = np.expand_dims(xValid, -1)\n",
        "xTest = np.expand_dims(xTest, -1)"
      ],
      "metadata": {
        "id": "jHmCXC5Uxthl"
      },
      "execution_count": 5,
      "outputs": []
    },
    {
      "cell_type": "code",
      "source": [
        "print(xTrain.shape,xValid.shape,xTest.shape)"
      ],
      "metadata": {
        "colab": {
          "base_uri": "https://localhost:8080/"
        },
        "id": "wFEPh4Qax5m6",
        "outputId": "27baa0b0-5900-4fcc-cb09-78cdca5a8627"
      },
      "execution_count": 6,
      "outputs": [
        {
          "output_type": "stream",
          "name": "stdout",
          "text": [
            "(55000, 28, 28, 1) (5000, 28, 28, 1) (10000, 28, 28, 1)\n"
          ]
        }
      ]
    },
    {
      "cell_type": "code",
      "source": [
        "classes = len(np.unique(yTrain))"
      ],
      "metadata": {
        "id": "8H5PPltfxJ_N"
      },
      "execution_count": 7,
      "outputs": []
    },
    {
      "cell_type": "code",
      "source": [
        "from keras.api._v2.keras.layers import Flatten\n",
        "layers=[\n",
        "    tf.keras.Input(shape=(28,28,1),name=\"inputlayer\"),\n",
        "    tf.keras.layers.Conv2D(32,kernel_size=(3,3),activation=\"relu\"),\n",
        "    tf.keras.layers.MaxPool2D(pool_size=(2,2)),\n",
        "    tf.keras.layers.Conv2D(64,kernel_size=(3,3),activation=\"relu\"),\n",
        "    tf.keras.layers.MaxPool2D(pool_size=(2,2)),\n",
        "    tf.keras.layers.Flatten(),\n",
        "    tf.keras.layers.Dense(classes, activation=\"softmax\"),\n",
        "]"
      ],
      "metadata": {
        "id": "lmgiUrxaxQ2p"
      },
      "execution_count": 8,
      "outputs": []
    },
    {
      "cell_type": "code",
      "source": [
        "model = tf.keras.models.Sequential(layers)\n",
        "model.summary()"
      ],
      "metadata": {
        "colab": {
          "base_uri": "https://localhost:8080/"
        },
        "id": "ryp7cqJ70MR8",
        "outputId": "c8ef9718-5a16-47e3-b25b-601740c14ed6"
      },
      "execution_count": 9,
      "outputs": [
        {
          "output_type": "stream",
          "name": "stdout",
          "text": [
            "Model: \"sequential\"\n",
            "_________________________________________________________________\n",
            " Layer (type)                Output Shape              Param #   \n",
            "=================================================================\n",
            " conv2d (Conv2D)             (None, 26, 26, 32)        320       \n",
            "                                                                 \n",
            " max_pooling2d (MaxPooling2D  (None, 13, 13, 32)       0         \n",
            " )                                                               \n",
            "                                                                 \n",
            " conv2d_1 (Conv2D)           (None, 11, 11, 64)        18496     \n",
            "                                                                 \n",
            " max_pooling2d_1 (MaxPooling  (None, 5, 5, 64)         0         \n",
            " 2D)                                                             \n",
            "                                                                 \n",
            " flatten (Flatten)           (None, 1600)              0         \n",
            "                                                                 \n",
            " dense (Dense)               (None, 10)                16010     \n",
            "                                                                 \n",
            "=================================================================\n",
            "Total params: 34,826\n",
            "Trainable params: 34,826\n",
            "Non-trainable params: 0\n",
            "_________________________________________________________________\n"
          ]
        }
      ]
    },
    {
      "cell_type": "code",
      "source": [
        "loss=\"sparse_categorical_crossentropy\"\n",
        "optimizer= \"SGD\"\n",
        "metrics= [\"accuracy\"]\n",
        "model.compile(optimizer=optimizer,loss=loss, metrics=metrics)"
      ],
      "metadata": {
        "id": "6aK8l3Bd0lKN"
      },
      "execution_count": 10,
      "outputs": []
    },
    {
      "cell_type": "code",
      "source": [
        "epochs = 30\n",
        "validation = (xValid, yValid)\n",
        "history = model.fit(xTrain, yTrain, epochs=epochs,validation_data=validation, batch_size=32 )"
      ],
      "metadata": {
        "colab": {
          "base_uri": "https://localhost:8080/"
        },
        "id": "cWZhN66x2OuS",
        "outputId": "9b255444-fb5e-404b-bbd0-0cb01ecbd59c"
      },
      "execution_count": 11,
      "outputs": [
        {
          "output_type": "stream",
          "name": "stdout",
          "text": [
            "Epoch 1/30\n",
            "1719/1719 [==============================] - 20s 4ms/step - loss: 0.5649 - accuracy: 0.8399 - val_loss: 0.2037 - val_accuracy: 0.9430\n",
            "Epoch 2/30\n",
            "1719/1719 [==============================] - 7s 4ms/step - loss: 0.1673 - accuracy: 0.9510 - val_loss: 0.1295 - val_accuracy: 0.9642\n",
            "Epoch 3/30\n",
            "1719/1719 [==============================] - 7s 4ms/step - loss: 0.1186 - accuracy: 0.9649 - val_loss: 0.1022 - val_accuracy: 0.9710\n",
            "Epoch 4/30\n",
            "1719/1719 [==============================] - 6s 4ms/step - loss: 0.0965 - accuracy: 0.9711 - val_loss: 0.0882 - val_accuracy: 0.9740\n",
            "Epoch 5/30\n",
            "1719/1719 [==============================] - 7s 4ms/step - loss: 0.0841 - accuracy: 0.9749 - val_loss: 0.0807 - val_accuracy: 0.9766\n",
            "Epoch 6/30\n",
            "1719/1719 [==============================] - 7s 4ms/step - loss: 0.0748 - accuracy: 0.9773 - val_loss: 0.0745 - val_accuracy: 0.9780\n",
            "Epoch 7/30\n",
            "1719/1719 [==============================] - 7s 4ms/step - loss: 0.0681 - accuracy: 0.9792 - val_loss: 0.0747 - val_accuracy: 0.9768\n",
            "Epoch 8/30\n",
            "1719/1719 [==============================] - 7s 4ms/step - loss: 0.0627 - accuracy: 0.9812 - val_loss: 0.0635 - val_accuracy: 0.9810\n",
            "Epoch 9/30\n",
            "1719/1719 [==============================] - 8s 4ms/step - loss: 0.0590 - accuracy: 0.9823 - val_loss: 0.0612 - val_accuracy: 0.9810\n",
            "Epoch 10/30\n",
            "1719/1719 [==============================] - 10s 6ms/step - loss: 0.0552 - accuracy: 0.9834 - val_loss: 0.0609 - val_accuracy: 0.9814\n",
            "Epoch 11/30\n",
            "1719/1719 [==============================] - 8s 5ms/step - loss: 0.0520 - accuracy: 0.9839 - val_loss: 0.0617 - val_accuracy: 0.9814\n",
            "Epoch 12/30\n",
            "1719/1719 [==============================] - 6s 4ms/step - loss: 0.0499 - accuracy: 0.9847 - val_loss: 0.0585 - val_accuracy: 0.9822\n",
            "Epoch 13/30\n",
            "1719/1719 [==============================] - 9s 5ms/step - loss: 0.0471 - accuracy: 0.9860 - val_loss: 0.0564 - val_accuracy: 0.9832\n",
            "Epoch 14/30\n",
            "1719/1719 [==============================] - 12s 7ms/step - loss: 0.0450 - accuracy: 0.9861 - val_loss: 0.0557 - val_accuracy: 0.9834\n",
            "Epoch 15/30\n",
            "1719/1719 [==============================] - 8s 4ms/step - loss: 0.0435 - accuracy: 0.9866 - val_loss: 0.0529 - val_accuracy: 0.9840\n",
            "Epoch 16/30\n",
            "1719/1719 [==============================] - 7s 4ms/step - loss: 0.0412 - accuracy: 0.9877 - val_loss: 0.0516 - val_accuracy: 0.9854\n",
            "Epoch 17/30\n",
            "1719/1719 [==============================] - 7s 4ms/step - loss: 0.0398 - accuracy: 0.9878 - val_loss: 0.0521 - val_accuracy: 0.9858\n",
            "Epoch 18/30\n",
            "1719/1719 [==============================] - 8s 4ms/step - loss: 0.0382 - accuracy: 0.9882 - val_loss: 0.0525 - val_accuracy: 0.9840\n",
            "Epoch 19/30\n",
            "1719/1719 [==============================] - 7s 4ms/step - loss: 0.0374 - accuracy: 0.9886 - val_loss: 0.0492 - val_accuracy: 0.9866\n",
            "Epoch 20/30\n",
            "1719/1719 [==============================] - 8s 5ms/step - loss: 0.0357 - accuracy: 0.9893 - val_loss: 0.0518 - val_accuracy: 0.9858\n",
            "Epoch 21/30\n",
            "1719/1719 [==============================] - 7s 4ms/step - loss: 0.0344 - accuracy: 0.9896 - val_loss: 0.0481 - val_accuracy: 0.9856\n",
            "Epoch 22/30\n",
            "1719/1719 [==============================] - 7s 4ms/step - loss: 0.0335 - accuracy: 0.9899 - val_loss: 0.0526 - val_accuracy: 0.9848\n",
            "Epoch 23/30\n",
            "1719/1719 [==============================] - 7s 4ms/step - loss: 0.0324 - accuracy: 0.9901 - val_loss: 0.0485 - val_accuracy: 0.9876\n",
            "Epoch 24/30\n",
            "1719/1719 [==============================] - 8s 4ms/step - loss: 0.0312 - accuracy: 0.9903 - val_loss: 0.0514 - val_accuracy: 0.9854\n",
            "Epoch 25/30\n",
            "1719/1719 [==============================] - 6s 4ms/step - loss: 0.0304 - accuracy: 0.9907 - val_loss: 0.0506 - val_accuracy: 0.9848\n",
            "Epoch 26/30\n",
            "1719/1719 [==============================] - 7s 4ms/step - loss: 0.0293 - accuracy: 0.9910 - val_loss: 0.0472 - val_accuracy: 0.9872\n",
            "Epoch 27/30\n",
            "1719/1719 [==============================] - 6s 4ms/step - loss: 0.0286 - accuracy: 0.9911 - val_loss: 0.0495 - val_accuracy: 0.9878\n",
            "Epoch 28/30\n",
            "1719/1719 [==============================] - 7s 4ms/step - loss: 0.0278 - accuracy: 0.9912 - val_loss: 0.0461 - val_accuracy: 0.9878\n",
            "Epoch 29/30\n",
            "1719/1719 [==============================] - 7s 4ms/step - loss: 0.0265 - accuracy: 0.9919 - val_loss: 0.0469 - val_accuracy: 0.9872\n",
            "Epoch 30/30\n",
            "1719/1719 [==============================] - 7s 4ms/step - loss: 0.0261 - accuracy: 0.9917 - val_loss: 0.0482 - val_accuracy: 0.9860\n"
          ]
        }
      ]
    },
    {
      "cell_type": "code",
      "source": [
        "print(history.history.keys())"
      ],
      "metadata": {
        "colab": {
          "base_uri": "https://localhost:8080/"
        },
        "id": "Q3ldbXTI2ZcP",
        "outputId": "293fb31e-d337-446e-925a-1cbdbc30898d"
      },
      "execution_count": 12,
      "outputs": [
        {
          "output_type": "stream",
          "name": "stdout",
          "text": [
            "dict_keys(['loss', 'accuracy', 'val_loss', 'val_accuracy'])\n"
          ]
        }
      ]
    },
    {
      "cell_type": "code",
      "source": [
        "plt.plot(history.history['accuracy'])\n",
        "plt.plot(history.history['val_loss'])\n",
        "plt.legend(['accuracy','val_loss'])\n",
        "plt.show"
      ],
      "metadata": {
        "colab": {
          "base_uri": "https://localhost:8080/",
          "height": 447
        },
        "id": "pkfTHQGE3aKI",
        "outputId": "e2479353-2a48-4c85-bc17-e94d634ad59d"
      },
      "execution_count": 13,
      "outputs": [
        {
          "output_type": "execute_result",
          "data": {
            "text/plain": [
              "<function matplotlib.pyplot.show(close=None, block=None)>"
            ]
          },
          "metadata": {},
          "execution_count": 13
        },
        {
          "output_type": "display_data",
          "data": {
            "text/plain": [
              "<Figure size 640x480 with 1 Axes>"
            ],
            "image/png": "[encoded data removed]"
          },
          "metadata": {}
        }
      ]
    },
    {
      "cell_type": "code",
      "source": [
        "model.evaluate(xTest,yTest)"
      ],
      "metadata": {
        "colab": {
          "base_uri": "https://localhost:8080/"
        },
        "id": "gjz4Q6el3cmo",
        "outputId": "5a3f64cb-d76c-4fe4-d386-4542c0a0edc2"
      },
      "execution_count": 14,
      "outputs": [
        {
          "output_type": "stream",
          "name": "stdout",
          "text": [
            "313/313 [==============================] - 1s 3ms/step - loss: 0.0388 - accuracy: 0.9879\n"
          ]
        },
        {
          "output_type": "execute_result",
          "data": {
            "text/plain": [
              "[0.038803018629550934, 0.9879000186920166]"
            ]
          },
          "metadata": {},
          "execution_count": 14
        }
      ]
    },
    {
      "cell_type": "code",
      "source": [
        "model.save(\"mnistCNNModel.H5\")"
      ],
      "metadata": {
        "colab": {
          "base_uri": "https://localhost:8080/"
        },
        "id": "j7OHUJuz3g5e",
        "outputId": "a1ac0616-0816-4614-eb0e-23ab689385fc"
      },
      "execution_count": 15,
      "outputs": [
        {
          "output_type": "stream",
          "name": "stderr",
          "text": [
            "WARNING:absl:Found untraced functions such as _jit_compiled_convolution_op, _jit_compiled_convolution_op while saving (showing 2 of 2). These functions will not be directly callable after loading.\n"
          ]
        }
      ]
    },
    {
      "cell_type": "code",
      "source": [
        "xNew = xTest[:3]\n",
        "yProbablity = model.predict(xNew)\n",
        "yProbablity.round(3)"
      ],
      "metadata": {
        "colab": {
          "base_uri": "https://localhost:8080/"
        },
        "id": "LwjuE34K3rSl",
        "outputId": "a770f7ab-8136-4d9f-f047-a9ffc3de8296"
      },
      "execution_count": 19,
      "outputs": [
        {
          "output_type": "stream",
          "name": "stdout",
          "text": [
            "1/1 [==============================] - 0s 155ms/step\n"
          ]
        },
        {
          "output_type": "execute_result",
          "data": {
            "text/plain": [
              "array([[0., 0., 0., 0., 0., 0., 0., 1., 0., 0.],\n",
              "       [0., 0., 1., 0., 0., 0., 0., 0., 0., 0.],\n",
              "       [0., 1., 0., 0., 0., 0., 0., 0., 0., 0.]], dtype=float32)"
            ]
          },
          "metadata": {},
          "execution_count": 19
        }
      ]
    },
    {
      "cell_type": "code",
      "source": [
        "yPred = np.argmax(yProbablity,axis=-1)\n",
        "yPred"
      ],
      "metadata": {
        "colab": {
          "base_uri": "https://localhost:8080/"
        },
        "id": "Ai3iViIN3t9a",
        "outputId": "fa32732c-5bc8-4217-ad6d-b2a57704431b"
      },
      "execution_count": 20,
      "outputs": [
        {
          "output_type": "execute_result",
          "data": {
            "text/plain": [
              "array([7, 2, 1])"
            ]
          },
          "metadata": {},
          "execution_count": 20
        }
      ]
    },
    {
      "cell_type": "code",
      "source": [
        "for img_array, pred, actual in zip(xNew, yPred, yTest[:3]):\n",
        "  plt.imshow(img_array,cmap=\"gray\")\n",
        "  plt.title(f\"Predicted: {pred}, Actual: {actual}\")\n",
        "  plt.axis(\"off\")\n",
        "  plt.show()\n",
        "  print(\"--\"*30)"
      ],
      "metadata": {
        "colab": {
          "base_uri": "https://localhost:8080/",
          "height": 1000
        },
        "id": "wgaDeGoO3xt4",
        "outputId": "e7fd3ed7-7911-4ba2-a7a8-09992fbe4f3d"
      },
      "execution_count": 21,
      "outputs": [
        {
          "output_type": "display_data",
          "data": {
            "text/plain": [
              "<Figure size 640x480 with 1 Axes>"
            ],
            "image/png": "[encoded data removed]"
          },
          "metadata": {}
        },
        {
          "output_type": "stream",
          "name": "stdout",
          "text": [
            "------------------------------------------------------------\n"
          ]
        },
        {
          "output_type": "display_data",
          "data": {
            "text/plain": [
              "<Figure size 640x480 with 1 Axes>"
            ],
            "image/png": "[encoded data removed]"
          },
          "metadata": {}
        },
        {
          "output_type": "stream",
          "name": "stdout",
          "text": [
            "------------------------------------------------------------\n"
          ]
        },
        {
          "output_type": "display_data",
          "data": {
            "text/plain": [
              "<Figure size 640x480 with 1 Axes>"
            ],
            "image/png": "[encoded data removed]"
          },
          "metadata": {}
        },
        {
          "output_type": "stream",
          "name": "stdout",
          "text": [
            "------------------------------------------------------------\n"
          ]
        }
      ]
    },
    {
      "cell_type": "markdown",
      "source": [
        "# CNN Transfer Learning"
      ],
      "metadata": {
        "id": "AF__G7jq48go"
      }
    },
    {
      "cell_type": "code",
      "source": [
        "pre_trained_model = tf.keras.models.load_model(\"mnistCNNModel.H5\")\n",
        "pre_trained_model.summary()"
      ],
      "metadata": {
        "colab": {
          "base_uri": "https://localhost:8080/"
        },
        "id": "Kk4aXlm04iaN",
        "outputId": "13e8c2fe-7b81-47b8-c68d-0d7e2686dd9d"
      },
      "execution_count": 24,
      "outputs": [
        {
          "output_type": "stream",
          "name": "stdout",
          "text": [
            "Model: \"sequential\"\n",
            "_________________________________________________________________\n",
            " Layer (type)                Output Shape              Param #   \n",
            "=================================================================\n",
            " conv2d (Conv2D)             (None, 26, 26, 32)        320       \n",
            "                                                                 \n",
            " max_pooling2d (MaxPooling2D  (None, 13, 13, 32)       0         \n",
            " )                                                               \n",
            "                                                                 \n",
            " conv2d_1 (Conv2D)           (None, 11, 11, 64)        18496     \n",
            "                                                                 \n",
            " max_pooling2d_1 (MaxPooling  (None, 5, 5, 64)         0         \n",
            " 2D)                                                             \n",
            "                                                                 \n",
            " flatten (Flatten)           (None, 1600)              0         \n",
            "                                                                 \n",
            " dense (Dense)               (None, 10)                16010     \n",
            "                                                                 \n",
            "=================================================================\n",
            "Total params: 34,826\n",
            "Trainable params: 34,826\n",
            "Non-trainable params: 0\n",
            "_________________________________________________________________\n"
          ]
        }
      ]
    },
    {
      "cell_type": "code",
      "source": [
        "for layer in pre_trained_model.layers:\n",
        "  print(f\"{layer.name} : {layer.trainable}\")"
      ],
      "metadata": {
        "colab": {
          "base_uri": "https://localhost:8080/"
        },
        "id": "4-apqam75BwR",
        "outputId": "89855aa0-6fc9-45be-872e-5b32b9de50ba"
      },
      "execution_count": 25,
      "outputs": [
        {
          "output_type": "stream",
          "name": "stdout",
          "text": [
            "conv2d : True\n",
            "max_pooling2d : True\n",
            "conv2d_1 : True\n",
            "max_pooling2d_1 : True\n",
            "flatten : True\n",
            "dense : True\n"
          ]
        }
      ]
    },
    {
      "cell_type": "code",
      "source": [
        "for layer in pre_trained_model.layers[:-1]: #Leaving softmax layer for binary even odd classification\n",
        "  layer.trainable = False"
      ],
      "metadata": {
        "id": "fOindxas5DJt"
      },
      "execution_count": 26,
      "outputs": []
    },
    {
      "cell_type": "code",
      "source": [
        "for layer in pre_trained_model.layers:\n",
        "  print(f\"{layer.name} : {layer.trainable}\")\n",
        "\n",
        "lower_pretrained_layers =  pre_trained_model.layers[:-1]"
      ],
      "metadata": {
        "colab": {
          "base_uri": "https://localhost:8080/"
        },
        "id": "jiBmm96W5J_7",
        "outputId": "d53ee42b-621f-4629-fe8b-9fb950430df7"
      },
      "execution_count": 51,
      "outputs": [
        {
          "output_type": "stream",
          "name": "stdout",
          "text": [
            "conv2d : False\n",
            "max_pooling2d : False\n",
            "conv2d_1 : False\n",
            "max_pooling2d_1 : False\n",
            "flatten : False\n",
            "dense : True\n"
          ]
        }
      ]
    },
    {
      "cell_type": "code",
      "source": [
        "model_EvenOdd = tf.keras.models.Sequential(lower_pretrained_layers)\n",
        "model_EvenOdd.add(\n",
        "    tf.keras.layers.Dense(2, activation=\"softmax\")\n",
        ")"
      ],
      "metadata": {
        "id": "WljIiw27-Ad7"
      },
      "execution_count": 59,
      "outputs": []
    },
    {
      "cell_type": "code",
      "source": [
        "model_EvenOdd.build((0,28,28,1))\n",
        "\n",
        "model_EvenOdd.summary()"
      ],
      "metadata": {
        "colab": {
          "base_uri": "https://localhost:8080/"
        },
        "id": "GnVVHbvi6uCD",
        "outputId": "d8840eb5-9f00-4433-e0bd-131d432a3939"
      },
      "execution_count": 60,
      "outputs": [
        {
          "output_type": "stream",
          "name": "stdout",
          "text": [
            "Model: \"sequential_13\"\n",
            "_________________________________________________________________\n",
            " Layer (type)                Output Shape              Param #   \n",
            "=================================================================\n",
            " conv2d (Conv2D)             multiple                  320       \n",
            "                                                                 \n",
            " max_pooling2d (MaxPooling2D  multiple                 0         \n",
            " )                                                               \n",
            "                                                                 \n",
            " conv2d_1 (Conv2D)           multiple                  18496     \n",
            "                                                                 \n",
            " max_pooling2d_1 (MaxPooling  multiple                 0         \n",
            " 2D)                                                             \n",
            "                                                                 \n",
            " flatten (Flatten)           multiple                  0         \n",
            "                                                                 \n",
            " dense_6 (Dense)             (0, 2)                    3202      \n",
            "                                                                 \n",
            "=================================================================\n",
            "Total params: 22,018\n",
            "Trainable params: 3,202\n",
            "Non-trainable params: 18,816\n",
            "_________________________________________________________________\n"
          ]
        }
      ]
    },
    {
      "cell_type": "code",
      "source": [
        "def update_even_odd_labels(labels):\n",
        "  for i, label in enumerate(labels):\n",
        "    labels[i] = np.where(label%2==0,1,0) #1 is Even, 0 is Odd\n",
        "\n",
        "  return labels"
      ],
      "metadata": {
        "id": "ib4oYcoW5Lqm"
      },
      "execution_count": 61,
      "outputs": []
    },
    {
      "cell_type": "code",
      "source": [
        " yTrain_EvenOdd, yTest_EvenOdd, yValid_EvenOdd = update_even_odd_labels([yTrain, yTest, yValid])"
      ],
      "metadata": {
        "id": "_0HP7KoH8-23"
      },
      "execution_count": 62,
      "outputs": []
    },
    {
      "cell_type": "code",
      "source": [
        "loss=\"sparse_categorical_crossentropy\"\n",
        "optimizer= \"SGD\"\n",
        "metrics= [\"accuracy\"]\n",
        "\n",
        "model_EvenOdd.compile(\n",
        "    loss=loss, optimizer=optimizer, metrics=metrics\n",
        ")"
      ],
      "metadata": {
        "id": "RpQpyqf863Fx"
      },
      "execution_count": 63,
      "outputs": []
    },
    {
      "cell_type": "code",
      "source": [
        "epochs = 10\n",
        "validation = (xValid, yValid_EvenOdd)\n",
        "history = model_EvenOdd.fit(xTrain, yTrain_EvenOdd, epochs=epochs,validation_data=validation, batch_size=32 )"
      ],
      "metadata": {
        "colab": {
          "base_uri": "https://localhost:8080/"
        },
        "id": "5BqN0JNH5WNd",
        "outputId": "20efebf2-3b9e-40e1-ff96-ec6869e60e2b"
      },
      "execution_count": 64,
      "outputs": [
        {
          "output_type": "stream",
          "name": "stdout",
          "text": [
            "Epoch 1/10\n",
            "1719/1719 [==============================] - 6s 3ms/step - loss: 0.1761 - accuracy: 0.9490 - val_loss: 0.0960 - val_accuracy: 0.9652\n",
            "Epoch 2/10\n",
            "1719/1719 [==============================] - 5s 3ms/step - loss: 0.0808 - accuracy: 0.9718 - val_loss: 0.0748 - val_accuracy: 0.9762\n",
            "Epoch 3/10\n",
            "1719/1719 [==============================] - 5s 3ms/step - loss: 0.0721 - accuracy: 0.9746 - val_loss: 0.0587 - val_accuracy: 0.9804\n",
            "Epoch 4/10\n",
            "1719/1719 [==============================] - 6s 3ms/step - loss: 0.0670 - accuracy: 0.9771 - val_loss: 0.0627 - val_accuracy: 0.9788\n",
            "Epoch 5/10\n",
            "1719/1719 [==============================] - 5s 3ms/step - loss: 0.0644 - accuracy: 0.9777 - val_loss: 0.0715 - val_accuracy: 0.9762\n",
            "Epoch 6/10\n",
            "1719/1719 [==============================] - 6s 4ms/step - loss: 0.0621 - accuracy: 0.9788 - val_loss: 0.0770 - val_accuracy: 0.9742\n",
            "Epoch 7/10\n",
            "1719/1719 [==============================] - 5s 3ms/step - loss: 0.0576 - accuracy: 0.9799 - val_loss: 0.0650 - val_accuracy: 0.9780\n",
            "Epoch 8/10\n",
            "1719/1719 [==============================] - 6s 4ms/step - loss: 0.0561 - accuracy: 0.9809 - val_loss: 0.0506 - val_accuracy: 0.9844\n",
            "Epoch 9/10\n",
            "1719/1719 [==============================] - 5s 3ms/step - loss: 0.0557 - accuracy: 0.9811 - val_loss: 0.0687 - val_accuracy: 0.9784\n",
            "Epoch 10/10\n",
            "1719/1719 [==============================] - 6s 3ms/step - loss: 0.0529 - accuracy: 0.9813 - val_loss: 0.0578 - val_accuracy: 0.9816\n"
          ]
        }
      ]
    },
    {
      "cell_type": "code",
      "source": [
        "model.evaluate(xTest,yTest_EvenOdd)"
      ],
      "metadata": {
        "colab": {
          "base_uri": "https://localhost:8080/"
        },
        "id": "qpItq7xA5ZLb",
        "outputId": "c982715c-1516-42f3-cad1-f5d75f7f17b6"
      },
      "execution_count": 65,
      "outputs": [
        {
          "output_type": "stream",
          "name": "stdout",
          "text": [
            "313/313 [==============================] - 2s 6ms/step - loss: 20.6585 - accuracy: 0.0012\n"
          ]
        },
        {
          "output_type": "execute_result",
          "data": {
            "text/plain": [
              "[20.658504486083984, 0.0012000000569969416]"
            ]
          },
          "metadata": {},
          "execution_count": 65
        }
      ]
    },
    {
      "cell_type": "code",
      "source": [
        "New = xTest[:3]\n",
        "yProbablity = model_EvenOdd.predict(xNew)\n",
        "yProbablity.round(3)"
      ],
      "metadata": {
        "colab": {
          "base_uri": "https://localhost:8080/"
        },
        "id": "j9lfFyBOALdc",
        "outputId": "b7997b62-cf3d-4acf-fd2f-7310bd76f82c"
      },
      "execution_count": 66,
      "outputs": [
        {
          "output_type": "stream",
          "name": "stdout",
          "text": [
            "1/1 [==============================] - 0s 58ms/step\n"
          ]
        },
        {
          "output_type": "execute_result",
          "data": {
            "text/plain": [
              "array([[1.   , 0.   ],\n",
              "       [0.002, 0.998],\n",
              "       [0.997, 0.003]], dtype=float32)"
            ]
          },
          "metadata": {},
          "execution_count": 66
        }
      ]
    },
    {
      "cell_type": "code",
      "source": [
        "yPred = np.argmax(yProbablity,axis=-1)\n",
        "yPred"
      ],
      "metadata": {
        "colab": {
          "base_uri": "https://localhost:8080/"
        },
        "id": "FzJ_Mw2zAVCi",
        "outputId": "98d5cdb9-2ab1-475c-989e-7f3a4b2d9e0a"
      },
      "execution_count": 67,
      "outputs": [
        {
          "output_type": "execute_result",
          "data": {
            "text/plain": [
              "array([0, 1, 0])"
            ]
          },
          "metadata": {},
          "execution_count": 67
        }
      ]
    },
    {
      "cell_type": "code",
      "source": [
        "for img_array, pred, actual in zip(xNew, yPred, yTest_EvenOdd[:3]):\n",
        "  plt.imshow(img_array,cmap=\"gray\")\n",
        "  plt.title(f\"Predicted: {pred}, Actual: {actual}\")\n",
        "  plt.axis(\"off\")\n",
        "  plt.show()\n",
        "  print(\"--\"*30)"
      ],
      "metadata": {
        "colab": {
          "base_uri": "https://localhost:8080/",
          "height": 1000
        },
        "id": "zF-ayKhLAYFY",
        "outputId": "62aed52a-f7d5-4047-a7be-62cc08f4fbb0"
      },
      "execution_count": 68,
      "outputs": [
        {
          "output_type": "display_data",
          "data": {
            "text/plain": [
              "<Figure size 640x480 with 1 Axes>"
            ],
            "image/png": "[encoded data removed]"
          },
          "metadata": {}
        },
        {
          "output_type": "stream",
          "name": "stdout",
          "text": [
            "------------------------------------------------------------\n"
          ]
        },
        {
          "output_type": "display_data",
          "data": {
            "text/plain": [
              "<Figure size 640x480 with 1 Axes>"
            ],
            "image/png": "[encoded data removed]"
          },
          "metadata": {}
        },
        {
          "output_type": "stream",
          "name": "stdout",
          "text": [
            "------------------------------------------------------------\n"
          ]
        },
        {
          "output_type": "display_data",
          "data": {
            "text/plain": [
              "<Figure size 640x480 with 1 Axes>"
            ],
            "image/png": "[encoded data removed]"
          },
          "metadata": {}
        },
        {
          "output_type": "stream",
          "name": "stdout",
          "text": [
            "------------------------------------------------------------\n"
          ]
        }
      ]
    },
    {
      "cell_type": "code",
      "source": [],
      "metadata": {
        "id": "HkqE6gEoAain"
      },
      "execution_count": null,
      "outputs": []
    }
  ]
}