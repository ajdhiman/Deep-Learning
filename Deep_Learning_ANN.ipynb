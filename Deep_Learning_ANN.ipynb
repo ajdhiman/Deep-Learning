{
  "nbformat": 4,
  "nbformat_minor": 0,
  "metadata": {
    "colab": {
      "provenance": [],
      "gpuType": "T4",
      "authorship_tag": "ABX9TyNpiCW8++j8hlQ9r6/CehW4",
      "include_colab_link": true
    },
    "kernelspec": {
      "name": "python3",
      "display_name": "Python 3"
    },
    "language_info": {
      "name": "python"
    },
    "accelerator": "GPU"
  },
  "cells": [
    {
      "cell_type": "markdown",
      "metadata": {
        "id": "view-in-github",
        "colab_type": "text"
      },
      "source": [
        "<a href=\"https://colab.research.google.com/github/ajdhiman/Google-Colab/blob/main/Deep_Learning_ANN.ipynb\" target=\"_parent\"><img src=\"https://colab.research.google.com/assets/colab-badge.svg\" alt=\"Open In Colab\"/></a>"
      ]
    },
    {
      "cell_type": "code",
      "execution_count": 4,
      "metadata": {
        "id": "ZNllUnKQKLUK",
        "colab": {
          "base_uri": "https://localhost:8080/"
        },
        "outputId": "77aa7c86-ae3b-4517-ce2e-059bd38ecf11"
      },
      "outputs": [
        {
          "output_type": "stream",
          "name": "stdout",
          "text": [
            "Tensorflow Version: 2.12.0\n"
          ]
        }
      ],
      "source": [
        "import tensorflow as tf\n",
        "print(\"Tensorflow Version:\",tf.__version__)"
      ]
    },
    {
      "cell_type": "code",
      "source": [
        "import numpy as np\n",
        "import matplotlib.pyplot as plt\n",
        "import pandas as pd"
      ],
      "metadata": {
        "id": "kWP4RhNCKb-z"
      },
      "execution_count": 5,
      "outputs": []
    },
    {
      "cell_type": "markdown",
      "source": [
        "**Classification Probem**"
      ],
      "metadata": {
        "id": "f4euhReGXYTl"
      }
    },
    {
      "cell_type": "code",
      "source": [
        "dataset=pd.read_csv(r'Churn_Modelling.csv')\n",
        "dataset.head()"
      ],
      "metadata": {
        "id": "5viizZxlNL1I",
        "colab": {
          "base_uri": "https://localhost:8080/",
          "height": 206
        },
        "outputId": "84e423a8-64ec-480d-872b-512e3098a8f4"
      },
      "execution_count": 6,
      "outputs": [
        {
          "output_type": "execute_result",
          "data": {
            "text/plain": [
              "   RowNumber  CustomerId   Surname  CreditScore Geography  Gender  Age  \\\n",
              "0          1    15634602  Hargrave          619    France  Female   42   \n",
              "1          2    15647311      Hill          608     Spain  Female   41   \n",
              "2          3    15619304      Onio          502    France  Female   42   \n",
              "3          4    15701354      Boni          699    France  Female   39   \n",
              "4          5    15737888  Mitchell          850     Spain  Female   43   \n",
              "\n",
              "   Tenure    Balance  NumOfProducts  HasCrCard  IsActiveMember  \\\n",
              "0       2       0.00              1          1               1   \n",
              "1       1   83807.86              1          0               1   \n",
              "2       8  159660.80              3          1               0   \n",
              "3       1       0.00              2          0               0   \n",
              "4       2  125510.82              1          1               1   \n",
              "\n",
              "   EstimatedSalary  Exited  \n",
              "0        101348.88       1  \n",
              "1        112542.58       0  \n",
              "2        113931.57       1  \n",
              "3         93826.63       0  \n",
              "4         79084.10       0  "
            ],
            "text/html": [
              "\n",
              "  <div id=\"df-544dfdfc-4b0a-4c98-aa3a-4e3adc37f203\">\n",
              "    <div class=\"colab-df-container\">\n",
              "      <div>\n",
              "<style scoped>\n",
              "    .dataframe tbody tr th:only-of-type {\n",
              "        vertical-align: middle;\n",
              "    }\n",
              "\n",
              "    .dataframe tbody tr th {\n",
              "        vertical-align: top;\n",
              "    }\n",
              "\n",
              "    .dataframe thead th {\n",
              "        text-align: right;\n",
              "    }\n",
              "</style>\n",
              "<table border=\"1\" class=\"dataframe\">\n",
              "  <thead>\n",
              "    <tr style=\"text-align: right;\">\n",
              "      <th></th>\n",
              "      <th>RowNumber</th>\n",
              "      <th>CustomerId</th>\n",
              "      <th>Surname</th>\n",
              "      <th>CreditScore</th>\n",
              "      <th>Geography</th>\n",
              "      <th>Gender</th>\n",
              "      <th>Age</th>\n",
              "      <th>Tenure</th>\n",
              "      <th>Balance</th>\n",
              "      <th>NumOfProducts</th>\n",
              "      <th>HasCrCard</th>\n",
              "      <th>IsActiveMember</th>\n",
              "      <th>EstimatedSalary</th>\n",
              "      <th>Exited</th>\n",
              "    </tr>\n",
              "  </thead>\n",
              "  <tbody>\n",
              "    <tr>\n",
              "      <th>0</th>\n",
              "      <td>1</td>\n",
              "      <td>15634602</td>\n",
              "      <td>Hargrave</td>\n",
              "      <td>619</td>\n",
              "      <td>France</td>\n",
              "      <td>Female</td>\n",
              "      <td>42</td>\n",
              "      <td>2</td>\n",
              "      <td>0.00</td>\n",
              "      <td>1</td>\n",
              "      <td>1</td>\n",
              "      <td>1</td>\n",
              "      <td>101348.88</td>\n",
              "      <td>1</td>\n",
              "    </tr>\n",
              "    <tr>\n",
              "      <th>1</th>\n",
              "      <td>2</td>\n",
              "      <td>15647311</td>\n",
              "      <td>Hill</td>\n",
              "      <td>608</td>\n",
              "      <td>Spain</td>\n",
              "      <td>Female</td>\n",
              "      <td>41</td>\n",
              "      <td>1</td>\n",
              "      <td>83807.86</td>\n",
              "      <td>1</td>\n",
              "      <td>0</td>\n",
              "      <td>1</td>\n",
              "      <td>112542.58</td>\n",
              "      <td>0</td>\n",
              "    </tr>\n",
              "    <tr>\n",
              "      <th>2</th>\n",
              "      <td>3</td>\n",
              "      <td>15619304</td>\n",
              "      <td>Onio</td>\n",
              "      <td>502</td>\n",
              "      <td>France</td>\n",
              "      <td>Female</td>\n",
              "      <td>42</td>\n",
              "      <td>8</td>\n",
              "      <td>159660.80</td>\n",
              "      <td>3</td>\n",
              "      <td>1</td>\n",
              "      <td>0</td>\n",
              "      <td>113931.57</td>\n",
              "      <td>1</td>\n",
              "    </tr>\n",
              "    <tr>\n",
              "      <th>3</th>\n",
              "      <td>4</td>\n",
              "      <td>15701354</td>\n",
              "      <td>Boni</td>\n",
              "      <td>699</td>\n",
              "      <td>France</td>\n",
              "      <td>Female</td>\n",
              "      <td>39</td>\n",
              "      <td>1</td>\n",
              "      <td>0.00</td>\n",
              "      <td>2</td>\n",
              "      <td>0</td>\n",
              "      <td>0</td>\n",
              "      <td>93826.63</td>\n",
              "      <td>0</td>\n",
              "    </tr>\n",
              "    <tr>\n",
              "      <th>4</th>\n",
              "      <td>5</td>\n",
              "      <td>15737888</td>\n",
              "      <td>Mitchell</td>\n",
              "      <td>850</td>\n",
              "      <td>Spain</td>\n",
              "      <td>Female</td>\n",
              "      <td>43</td>\n",
              "      <td>2</td>\n",
              "      <td>125510.82</td>\n",
              "      <td>1</td>\n",
              "      <td>1</td>\n",
              "      <td>1</td>\n",
              "      <td>79084.10</td>\n",
              "      <td>0</td>\n",
              "    </tr>\n",
              "  </tbody>\n",
              "</table>\n",
              "</div>\n",
              "      <button class=\"colab-df-convert\" onclick=\"convertToInteractive('df-544dfdfc-4b0a-4c98-aa3a-4e3adc37f203')\"\n",
              "              title=\"Convert this dataframe to an interactive table.\"\n",
              "              style=\"display:none;\">\n",
              "        \n",
              "  <svg xmlns=\"http://www.w3.org/2000/svg\" height=\"24px\"viewBox=\"0 0 24 24\"\n",
              "       width=\"24px\">\n",
              "    <path d=\"M0 0h24v24H0V0z\" fill=\"none\"/>\n",
              "    <path d=\"M18.56 5.44l.94 2.06.94-2.06 2.06-.94-2.06-.94-.94-2.06-.94 2.06-2.06.94zm-11 1L8.5 8.5l.94-2.06 2.06-.94-2.06-.94L8.5 2.5l-.94 2.06-2.06.94zm10 10l.94 2.06.94-2.06 2.06-.94-2.06-.94-.94-2.06-.94 2.06-2.06.94z\"/><path d=\"M17.41 7.96l-1.37-1.37c-.4-.4-.92-.59-1.43-.59-.52 0-1.04.2-1.43.59L10.3 9.45l-7.72 7.72c-.78.78-.78 2.05 0 2.83L4 21.41c.39.39.9.59 1.41.59.51 0 1.02-.2 1.41-.59l7.78-7.78 2.81-2.81c.8-.78.8-2.07 0-2.86zM5.41 20L4 18.59l7.72-7.72 1.47 1.35L5.41 20z\"/>\n",
              "  </svg>\n",
              "      </button>\n",
              "      \n",
              "  <style>\n",
              "    .colab-df-container {\n",
              "      display:flex;\n",
              "      flex-wrap:wrap;\n",
              "      gap: 12px;\n",
              "    }\n",
              "\n",
              "    .colab-df-convert {\n",
              "      background-color: #E8F0FE;\n",
              "      border: none;\n",
              "      border-radius: 50%;\n",
              "      cursor: pointer;\n",
              "      display: none;\n",
              "      fill: #1967D2;\n",
              "      height: 32px;\n",
              "      padding: 0 0 0 0;\n",
              "      width: 32px;\n",
              "    }\n",
              "\n",
              "    .colab-df-convert:hover {\n",
              "      background-color: #E2EBFA;\n",
              "      box-shadow: 0px 1px 2px rgba(60, 64, 67, 0.3), 0px 1px 3px 1px rgba(60, 64, 67, 0.15);\n",
              "      fill: #174EA6;\n",
              "    }\n",
              "\n",
              "    [theme=dark] .colab-df-convert {\n",
              "      background-color: #3B4455;\n",
              "      fill: #D2E3FC;\n",
              "    }\n",
              "\n",
              "    [theme=dark] .colab-df-convert:hover {\n",
              "      background-color: #434B5C;\n",
              "      box-shadow: 0px 1px 3px 1px rgba(0, 0, 0, 0.15);\n",
              "      filter: drop-shadow(0px 1px 2px rgba(0, 0, 0, 0.3));\n",
              "      fill: #FFFFFF;\n",
              "    }\n",
              "  </style>\n",
              "\n",
              "      <script>\n",
              "        const buttonEl =\n",
              "          document.querySelector('#df-544dfdfc-4b0a-4c98-aa3a-4e3adc37f203 button.colab-df-convert');\n",
              "        buttonEl.style.display =\n",
              "          google.colab.kernel.accessAllowed ? 'block' : 'none';\n",
              "\n",
              "        async function convertToInteractive(key) {\n",
              "          const element = document.querySelector('#df-544dfdfc-4b0a-4c98-aa3a-4e3adc37f203');\n",
              "          const dataTable =\n",
              "            await google.colab.kernel.invokeFunction('convertToInteractive',\n",
              "                                                     [key], {});\n",
              "          if (!dataTable) return;\n",
              "\n",
              "          const docLinkHtml = 'Like what you see? Visit the ' +\n",
              "            '<a target=\"_blank\" href=https://colab.research.google.com/notebooks/data_table.ipynb>data table notebook</a>'\n",
              "            + ' to learn more about interactive tables.';\n",
              "          element.innerHTML = '';\n",
              "          dataTable['output_type'] = 'display_data';\n",
              "          await google.colab.output.renderOutput(dataTable, element);\n",
              "          const docLink = document.createElement('div');\n",
              "          docLink.innerHTML = docLinkHtml;\n",
              "          element.appendChild(docLink);\n",
              "        }\n",
              "      </script>\n",
              "    </div>\n",
              "  </div>\n",
              "  "
            ]
          },
          "metadata": {},
          "execution_count": 6
        }
      ]
    },
    {
      "cell_type": "code",
      "source": [
        "dataset.columns"
      ],
      "metadata": {
        "colab": {
          "base_uri": "https://localhost:8080/"
        },
        "id": "Er0i1RqyKJfA",
        "outputId": "1d31b2cb-3707-4beb-cd71-8870a7cd8aa7"
      },
      "execution_count": 7,
      "outputs": [
        {
          "output_type": "execute_result",
          "data": {
            "text/plain": [
              "Index(['RowNumber', 'CustomerId', 'Surname', 'CreditScore', 'Geography',\n",
              "       'Gender', 'Age', 'Tenure', 'Balance', 'NumOfProducts', 'HasCrCard',\n",
              "       'IsActiveMember', 'EstimatedSalary', 'Exited'],\n",
              "      dtype='object')"
            ]
          },
          "metadata": {},
          "execution_count": 7
        }
      ]
    },
    {
      "cell_type": "code",
      "source": [
        "x=dataset.iloc[:,3:13].values\n",
        "x=pd.DataFrame(x,columns=['CreditScore', 'Geography','Gender', 'Age', 'Tenure', 'Balance', 'NumOfProducts', 'HasCrCard','IsActiveMember', 'EstimatedSalary'])\n"
      ],
      "metadata": {
        "id": "xbIvZa-5Coux"
      },
      "execution_count": 8,
      "outputs": []
    },
    {
      "cell_type": "code",
      "source": [
        "y=dataset.iloc[:,-1]\n",
        "y.head()"
      ],
      "metadata": {
        "colab": {
          "base_uri": "https://localhost:8080/"
        },
        "id": "wQXhLvNnCqad",
        "outputId": "90c498ba-4fba-436f-c5d5-939faf3f6450"
      },
      "execution_count": 9,
      "outputs": [
        {
          "output_type": "execute_result",
          "data": {
            "text/plain": [
              "0    1\n",
              "1    0\n",
              "2    1\n",
              "3    0\n",
              "4    0\n",
              "Name: Exited, dtype: int64"
            ]
          },
          "metadata": {},
          "execution_count": 9
        }
      ]
    },
    {
      "cell_type": "code",
      "source": [
        "y.value_counts()"
      ],
      "metadata": {
        "colab": {
          "base_uri": "https://localhost:8080/"
        },
        "id": "xMI998DfZOMy",
        "outputId": "f65f054d-64ec-45f9-d870-02d7a4cee174"
      },
      "execution_count": 10,
      "outputs": [
        {
          "output_type": "execute_result",
          "data": {
            "text/plain": [
              "0    7963\n",
              "1    2037\n",
              "Name: Exited, dtype: int64"
            ]
          },
          "metadata": {},
          "execution_count": 10
        }
      ]
    },
    {
      "cell_type": "code",
      "source": [
        "geography=pd.get_dummies(x['Geography'],drop_first=True)\n",
        "gender=pd.get_dummies(x['Gender'],drop_first=True)"
      ],
      "metadata": {
        "id": "B_AAWWF0DllT"
      },
      "execution_count": 11,
      "outputs": []
    },
    {
      "cell_type": "code",
      "source": [
        "x=x.drop(['Geography','Gender'],axis=1)"
      ],
      "metadata": {
        "id": "rDLwgN5xG18a"
      },
      "execution_count": 12,
      "outputs": []
    },
    {
      "cell_type": "code",
      "source": [
        "x=pd.concat([x,geography,gender],axis=1)"
      ],
      "metadata": {
        "id": "7ANcSamqG9Ox"
      },
      "execution_count": 13,
      "outputs": []
    },
    {
      "cell_type": "code",
      "source": [
        "x.head()"
      ],
      "metadata": {
        "colab": {
          "base_uri": "https://localhost:8080/",
          "height": 206
        },
        "id": "XvpOLljOG9-S",
        "outputId": "75ee4156-b9a6-47aa-a0ae-0eefb68e251e"
      },
      "execution_count": 14,
      "outputs": [
        {
          "output_type": "execute_result",
          "data": {
            "text/plain": [
              "  CreditScore Age Tenure    Balance NumOfProducts HasCrCard IsActiveMember  \\\n",
              "0         619  42      2        0.0             1         1              1   \n",
              "1         608  41      1   83807.86             1         0              1   \n",
              "2         502  42      8   159660.8             3         1              0   \n",
              "3         699  39      1        0.0             2         0              0   \n",
              "4         850  43      2  125510.82             1         1              1   \n",
              "\n",
              "  EstimatedSalary  Germany  Spain  Male  \n",
              "0       101348.88        0      0     0  \n",
              "1       112542.58        0      1     0  \n",
              "2       113931.57        0      0     0  \n",
              "3        93826.63        0      0     0  \n",
              "4         79084.1        0      1     0  "
            ],
            "text/html": [
              "\n",
              "  <div id=\"df-f60af3b9-4061-4265-9614-e250269cfc87\">\n",
              "    <div class=\"colab-df-container\">\n",
              "      <div>\n",
              "<style scoped>\n",
              "    .dataframe tbody tr th:only-of-type {\n",
              "        vertical-align: middle;\n",
              "    }\n",
              "\n",
              "    .dataframe tbody tr th {\n",
              "        vertical-align: top;\n",
              "    }\n",
              "\n",
              "    .dataframe thead th {\n",
              "        text-align: right;\n",
              "    }\n",
              "</style>\n",
              "<table border=\"1\" class=\"dataframe\">\n",
              "  <thead>\n",
              "    <tr style=\"text-align: right;\">\n",
              "      <th></th>\n",
              "      <th>CreditScore</th>\n",
              "      <th>Age</th>\n",
              "      <th>Tenure</th>\n",
              "      <th>Balance</th>\n",
              "      <th>NumOfProducts</th>\n",
              "      <th>HasCrCard</th>\n",
              "      <th>IsActiveMember</th>\n",
              "      <th>EstimatedSalary</th>\n",
              "      <th>Germany</th>\n",
              "      <th>Spain</th>\n",
              "      <th>Male</th>\n",
              "    </tr>\n",
              "  </thead>\n",
              "  <tbody>\n",
              "    <tr>\n",
              "      <th>0</th>\n",
              "      <td>619</td>\n",
              "      <td>42</td>\n",
              "      <td>2</td>\n",
              "      <td>0.0</td>\n",
              "      <td>1</td>\n",
              "      <td>1</td>\n",
              "      <td>1</td>\n",
              "      <td>101348.88</td>\n",
              "      <td>0</td>\n",
              "      <td>0</td>\n",
              "      <td>0</td>\n",
              "    </tr>\n",
              "    <tr>\n",
              "      <th>1</th>\n",
              "      <td>608</td>\n",
              "      <td>41</td>\n",
              "      <td>1</td>\n",
              "      <td>83807.86</td>\n",
              "      <td>1</td>\n",
              "      <td>0</td>\n",
              "      <td>1</td>\n",
              "      <td>112542.58</td>\n",
              "      <td>0</td>\n",
              "      <td>1</td>\n",
              "      <td>0</td>\n",
              "    </tr>\n",
              "    <tr>\n",
              "      <th>2</th>\n",
              "      <td>502</td>\n",
              "      <td>42</td>\n",
              "      <td>8</td>\n",
              "      <td>159660.8</td>\n",
              "      <td>3</td>\n",
              "      <td>1</td>\n",
              "      <td>0</td>\n",
              "      <td>113931.57</td>\n",
              "      <td>0</td>\n",
              "      <td>0</td>\n",
              "      <td>0</td>\n",
              "    </tr>\n",
              "    <tr>\n",
              "      <th>3</th>\n",
              "      <td>699</td>\n",
              "      <td>39</td>\n",
              "      <td>1</td>\n",
              "      <td>0.0</td>\n",
              "      <td>2</td>\n",
              "      <td>0</td>\n",
              "      <td>0</td>\n",
              "      <td>93826.63</td>\n",
              "      <td>0</td>\n",
              "      <td>0</td>\n",
              "      <td>0</td>\n",
              "    </tr>\n",
              "    <tr>\n",
              "      <th>4</th>\n",
              "      <td>850</td>\n",
              "      <td>43</td>\n",
              "      <td>2</td>\n",
              "      <td>125510.82</td>\n",
              "      <td>1</td>\n",
              "      <td>1</td>\n",
              "      <td>1</td>\n",
              "      <td>79084.1</td>\n",
              "      <td>0</td>\n",
              "      <td>1</td>\n",
              "      <td>0</td>\n",
              "    </tr>\n",
              "  </tbody>\n",
              "</table>\n",
              "</div>\n",
              "      <button class=\"colab-df-convert\" onclick=\"convertToInteractive('df-f60af3b9-4061-4265-9614-e250269cfc87')\"\n",
              "              title=\"Convert this dataframe to an interactive table.\"\n",
              "              style=\"display:none;\">\n",
              "        \n",
              "  <svg xmlns=\"http://www.w3.org/2000/svg\" height=\"24px\"viewBox=\"0 0 24 24\"\n",
              "       width=\"24px\">\n",
              "    <path d=\"M0 0h24v24H0V0z\" fill=\"none\"/>\n",
              "    <path d=\"M18.56 5.44l.94 2.06.94-2.06 2.06-.94-2.06-.94-.94-2.06-.94 2.06-2.06.94zm-11 1L8.5 8.5l.94-2.06 2.06-.94-2.06-.94L8.5 2.5l-.94 2.06-2.06.94zm10 10l.94 2.06.94-2.06 2.06-.94-2.06-.94-.94-2.06-.94 2.06-2.06.94z\"/><path d=\"M17.41 7.96l-1.37-1.37c-.4-.4-.92-.59-1.43-.59-.52 0-1.04.2-1.43.59L10.3 9.45l-7.72 7.72c-.78.78-.78 2.05 0 2.83L4 21.41c.39.39.9.59 1.41.59.51 0 1.02-.2 1.41-.59l7.78-7.78 2.81-2.81c.8-.78.8-2.07 0-2.86zM5.41 20L4 18.59l7.72-7.72 1.47 1.35L5.41 20z\"/>\n",
              "  </svg>\n",
              "      </button>\n",
              "      \n",
              "  <style>\n",
              "    .colab-df-container {\n",
              "      display:flex;\n",
              "      flex-wrap:wrap;\n",
              "      gap: 12px;\n",
              "    }\n",
              "\n",
              "    .colab-df-convert {\n",
              "      background-color: #E8F0FE;\n",
              "      border: none;\n",
              "      border-radius: 50%;\n",
              "      cursor: pointer;\n",
              "      display: none;\n",
              "      fill: #1967D2;\n",
              "      height: 32px;\n",
              "      padding: 0 0 0 0;\n",
              "      width: 32px;\n",
              "    }\n",
              "\n",
              "    .colab-df-convert:hover {\n",
              "      background-color: #E2EBFA;\n",
              "      box-shadow: 0px 1px 2px rgba(60, 64, 67, 0.3), 0px 1px 3px 1px rgba(60, 64, 67, 0.15);\n",
              "      fill: #174EA6;\n",
              "    }\n",
              "\n",
              "    [theme=dark] .colab-df-convert {\n",
              "      background-color: #3B4455;\n",
              "      fill: #D2E3FC;\n",
              "    }\n",
              "\n",
              "    [theme=dark] .colab-df-convert:hover {\n",
              "      background-color: #434B5C;\n",
              "      box-shadow: 0px 1px 3px 1px rgba(0, 0, 0, 0.15);\n",
              "      filter: drop-shadow(0px 1px 2px rgba(0, 0, 0, 0.3));\n",
              "      fill: #FFFFFF;\n",
              "    }\n",
              "  </style>\n",
              "\n",
              "      <script>\n",
              "        const buttonEl =\n",
              "          document.querySelector('#df-f60af3b9-4061-4265-9614-e250269cfc87 button.colab-df-convert');\n",
              "        buttonEl.style.display =\n",
              "          google.colab.kernel.accessAllowed ? 'block' : 'none';\n",
              "\n",
              "        async function convertToInteractive(key) {\n",
              "          const element = document.querySelector('#df-f60af3b9-4061-4265-9614-e250269cfc87');\n",
              "          const dataTable =\n",
              "            await google.colab.kernel.invokeFunction('convertToInteractive',\n",
              "                                                     [key], {});\n",
              "          if (!dataTable) return;\n",
              "\n",
              "          const docLinkHtml = 'Like what you see? Visit the ' +\n",
              "            '<a target=\"_blank\" href=https://colab.research.google.com/notebooks/data_table.ipynb>data table notebook</a>'\n",
              "            + ' to learn more about interactive tables.';\n",
              "          element.innerHTML = '';\n",
              "          dataTable['output_type'] = 'display_data';\n",
              "          await google.colab.output.renderOutput(dataTable, element);\n",
              "          const docLink = document.createElement('div');\n",
              "          docLink.innerHTML = docLinkHtml;\n",
              "          element.appendChild(docLink);\n",
              "        }\n",
              "      </script>\n",
              "    </div>\n",
              "  </div>\n",
              "  "
            ]
          },
          "metadata": {},
          "execution_count": 14
        }
      ]
    },
    {
      "cell_type": "code",
      "source": [
        "from sklearn.model_selection import train_test_split\n",
        "x_train,x_test,y_train,y_test=train_test_split(x,y,test_size=0.3,random_state=0)"
      ],
      "metadata": {
        "id": "905O2BdqMbij"
      },
      "execution_count": 15,
      "outputs": []
    },
    {
      "cell_type": "code",
      "source": [
        "o_features=[f for f in x_train.columns if x_train[f].dtype =='O']\n",
        "for col in o_features:\n",
        "    x_train[col] = x_train[col].astype(float)\n",
        "    x_test[col] = x_test[col].astype(float)\n"
      ],
      "metadata": {
        "id": "4JbFjXt_VHfD"
      },
      "execution_count": 16,
      "outputs": []
    },
    {
      "cell_type": "code",
      "source": [
        "from sklearn.preprocessing import StandardScaler\n",
        "scaler = StandardScaler()\n",
        "x_train_scaled = scaler.fit_transform(x_train)\n",
        "x_test_scaled= scaler.transform(x_test)"
      ],
      "metadata": {
        "id": "b3mq9nCpMsC1"
      },
      "execution_count": 17,
      "outputs": []
    },
    {
      "cell_type": "code",
      "source": [
        "from tensorflow.keras.models import Sequential\n",
        "from tensorflow.keras.layers import Dense\n",
        "from tensorflow.keras.layers import LeakyReLU, PReLU, ReLU\n",
        "from tensorflow.keras.layers import Dropout"
      ],
      "metadata": {
        "id": "8C9M0ugaNeOy"
      },
      "execution_count": 18,
      "outputs": []
    },
    {
      "cell_type": "code",
      "source": [
        "classifier=Sequential()"
      ],
      "metadata": {
        "id": "bhjAQ1NwNl7U"
      },
      "execution_count": 19,
      "outputs": []
    },
    {
      "cell_type": "code",
      "source": [
        "classifier.add(Dense(units=10,activation='relu', input_shape=(11,)))"
      ],
      "metadata": {
        "id": "g5vh4cJyTPj9"
      },
      "execution_count": 20,
      "outputs": []
    },
    {
      "cell_type": "code",
      "source": [
        "classifier.add(Dense(units=10,activation='relu'))"
      ],
      "metadata": {
        "id": "FRoSGfRXTp9p"
      },
      "execution_count": 21,
      "outputs": []
    },
    {
      "cell_type": "code",
      "source": [
        "classifier.add(Dense(units=7,activation='relu'))"
      ],
      "metadata": {
        "id": "jNBv03GCWUIh"
      },
      "execution_count": 22,
      "outputs": []
    },
    {
      "cell_type": "code",
      "source": [
        "classifier.add(Dense(units=1,activation='sigmoid'))"
      ],
      "metadata": {
        "id": "BHT1rUGlNteK"
      },
      "execution_count": 23,
      "outputs": []
    },
    {
      "cell_type": "code",
      "source": [
        "classifier.summary()"
      ],
      "metadata": {
        "colab": {
          "base_uri": "https://localhost:8080/"
        },
        "id": "_UrMzLIEN_IM",
        "outputId": "8265bf18-587a-4f73-f348-4b6fd684271f"
      },
      "execution_count": 24,
      "outputs": [
        {
          "output_type": "stream",
          "name": "stdout",
          "text": [
            "Model: \"sequential\"\n",
            "_________________________________________________________________\n",
            " Layer (type)                Output Shape              Param #   \n",
            "=================================================================\n",
            " dense (Dense)               (None, 10)                120       \n",
            "                                                                 \n",
            " dense_1 (Dense)             (None, 10)                110       \n",
            "                                                                 \n",
            " dense_2 (Dense)             (None, 7)                 77        \n",
            "                                                                 \n",
            " dense_3 (Dense)             (None, 1)                 8         \n",
            "                                                                 \n",
            "=================================================================\n",
            "Total params: 315\n",
            "Trainable params: 315\n",
            "Non-trainable params: 0\n",
            "_________________________________________________________________\n"
          ]
        }
      ]
    },
    {
      "cell_type": "code",
      "source": [
        "opt=tf.keras.optimizers.Adam(learning_rate=0.01)"
      ],
      "metadata": {
        "id": "AaqOiNCEOXNJ"
      },
      "execution_count": 25,
      "outputs": []
    },
    {
      "cell_type": "code",
      "source": [
        "classifier.compile(optimizer=opt,loss='binary_crossentropy',metrics=['accuracy'])"
      ],
      "metadata": {
        "id": "wPGjrh8pNwz4"
      },
      "execution_count": 26,
      "outputs": []
    },
    {
      "cell_type": "code",
      "source": [
        "early_stopping=tf.keras.callbacks.EarlyStopping(monitor=\"val_loss\",min_delta=0.0001,patience=5,verbose=1,mode=\"auto\",baseline=None,restore_best_weights=False)"
      ],
      "metadata": {
        "id": "JNoa-v4RPGCi"
      },
      "execution_count": 27,
      "outputs": []
    },
    {
      "cell_type": "code",
      "source": [
        "from imblearn.over_sampling import SMOTE\n",
        "x_train = np.array(x_train)\n",
        "y_train = np.array(y_train)\n",
        "smote = SMOTE()\n",
        "X_resampled, y_resampled = smote.fit_resample(x_train, y_train)"
      ],
      "metadata": {
        "id": "xry0YN6Mbe6q"
      },
      "execution_count": 28,
      "outputs": []
    },
    {
      "cell_type": "code",
      "source": [
        "#model_history=classifier.fit(np.array(x_train),y_train,validation_split=0.33,batch_size=10,epochs=100,callbacks=early_stopping)\n",
        "model_history=classifier.fit(np.array(x_train_scaled),y_train,validation_data=(x_test_scaled,y_test),batch_size=10,epochs=100,callbacks=early_stopping)"
      ],
      "metadata": {
        "colab": {
          "base_uri": "https://localhost:8080/"
        },
        "id": "BXjowk6LQySV",
        "outputId": "458e629a-c988-45f5-9e1d-07eb49b0118b"
      },
      "execution_count": 29,
      "outputs": [
        {
          "output_type": "stream",
          "name": "stdout",
          "text": [
            "Epoch 1/100\n",
            "700/700 [==============================] - 9s 4ms/step - loss: 0.4369 - accuracy: 0.8037 - val_loss: 0.4194 - val_accuracy: 0.8173\n",
            "Epoch 2/100\n",
            "700/700 [==============================] - 3s 4ms/step - loss: 0.3850 - accuracy: 0.8419 - val_loss: 0.3960 - val_accuracy: 0.8523\n",
            "Epoch 3/100\n",
            "700/700 [==============================] - 3s 5ms/step - loss: 0.3744 - accuracy: 0.8490 - val_loss: 0.3559 - val_accuracy: 0.8577\n",
            "Epoch 4/100\n",
            "700/700 [==============================] - 3s 4ms/step - loss: 0.3640 - accuracy: 0.8531 - val_loss: 0.3574 - val_accuracy: 0.8587\n",
            "Epoch 5/100\n",
            "700/700 [==============================] - 3s 4ms/step - loss: 0.3602 - accuracy: 0.8571 - val_loss: 0.3558 - val_accuracy: 0.8607\n",
            "Epoch 6/100\n",
            "700/700 [==============================] - 3s 4ms/step - loss: 0.3600 - accuracy: 0.8566 - val_loss: 0.3612 - val_accuracy: 0.8567\n",
            "Epoch 7/100\n",
            "700/700 [==============================] - 5s 7ms/step - loss: 0.3586 - accuracy: 0.8543 - val_loss: 0.3559 - val_accuracy: 0.8580\n",
            "Epoch 8/100\n",
            "700/700 [==============================] - 3s 4ms/step - loss: 0.3533 - accuracy: 0.8576 - val_loss: 0.3432 - val_accuracy: 0.8627\n",
            "Epoch 9/100\n",
            "700/700 [==============================] - 3s 4ms/step - loss: 0.3545 - accuracy: 0.8593 - val_loss: 0.3585 - val_accuracy: 0.8597\n",
            "Epoch 10/100\n",
            "700/700 [==============================] - 3s 4ms/step - loss: 0.3505 - accuracy: 0.8614 - val_loss: 0.3459 - val_accuracy: 0.8617\n",
            "Epoch 11/100\n",
            "700/700 [==============================] - 3s 5ms/step - loss: 0.3512 - accuracy: 0.8603 - val_loss: 0.3646 - val_accuracy: 0.8510\n",
            "Epoch 12/100\n",
            "700/700 [==============================] - 3s 4ms/step - loss: 0.3519 - accuracy: 0.8606 - val_loss: 0.3422 - val_accuracy: 0.8623\n",
            "Epoch 13/100\n",
            "700/700 [==============================] - 3s 4ms/step - loss: 0.3503 - accuracy: 0.8606 - val_loss: 0.3516 - val_accuracy: 0.8620\n",
            "Epoch 14/100\n",
            "700/700 [==============================] - 3s 4ms/step - loss: 0.3466 - accuracy: 0.8614 - val_loss: 0.3464 - val_accuracy: 0.8583\n",
            "Epoch 15/100\n",
            "700/700 [==============================] - 3s 5ms/step - loss: 0.3457 - accuracy: 0.8604 - val_loss: 0.3504 - val_accuracy: 0.8563\n",
            "Epoch 16/100\n",
            "700/700 [==============================] - 3s 4ms/step - loss: 0.3455 - accuracy: 0.8606 - val_loss: 0.3523 - val_accuracy: 0.8563\n",
            "Epoch 17/100\n",
            "700/700 [==============================] - 3s 4ms/step - loss: 0.3475 - accuracy: 0.8593 - val_loss: 0.3500 - val_accuracy: 0.8543\n",
            "Epoch 17: early stopping\n"
          ]
        }
      ]
    },
    {
      "cell_type": "code",
      "source": [
        "model_history.history.keys()"
      ],
      "metadata": {
        "colab": {
          "base_uri": "https://localhost:8080/"
        },
        "id": "5h8c4XcuSbyB",
        "outputId": "1ddd836a-382c-4763-cc4b-57c5b53c7189"
      },
      "execution_count": 30,
      "outputs": [
        {
          "output_type": "execute_result",
          "data": {
            "text/plain": [
              "dict_keys(['loss', 'accuracy', 'val_loss', 'val_accuracy'])"
            ]
          },
          "metadata": {},
          "execution_count": 30
        }
      ]
    },
    {
      "cell_type": "code",
      "source": [
        "plt.plot(model_history.history['accuracy'])\n",
        "plt.plot(model_history.history['val_accuracy'])\n",
        "plt.legend(['accuracy','val_accuracy'])\n",
        "plt.show"
      ],
      "metadata": {
        "colab": {
          "base_uri": "https://localhost:8080/",
          "height": 447
        },
        "id": "u_WFFexVSgf0",
        "outputId": "c0a0de2e-ebe3-4335-f98d-48c724a3a675"
      },
      "execution_count": 31,
      "outputs": [
        {
          "output_type": "execute_result",
          "data": {
            "text/plain": [
              "<function matplotlib.pyplot.show(close=None, block=None)>"
            ]
          },
          "metadata": {},
          "execution_count": 31
        },
        {
          "output_type": "display_data",
          "data": {
            "text/plain": [
              "<Figure size 640x480 with 1 Axes>"
            ],
            "image/png": "[encoded data removed]"
          },
          "metadata": {}
        }
      ]
    },
    {
      "cell_type": "code",
      "source": [
        "y_pred=classifier.predict(x_test_scaled)\n",
        "y_pred=(y_pred>=0.5)"
      ],
      "metadata": {
        "colab": {
          "base_uri": "https://localhost:8080/"
        },
        "id": "b9P1FgHtT3cO",
        "outputId": "3e03c6d8-4d40-480a-ee58-10a2bee032e4"
      },
      "execution_count": 32,
      "outputs": [
        {
          "output_type": "stream",
          "name": "stdout",
          "text": [
            "94/94 [==============================] - 0s 2ms/step\n"
          ]
        }
      ]
    },
    {
      "cell_type": "code",
      "source": [
        "from sklearn.metrics import accuracy_score,confusion_matrix\n",
        "score=accuracy_score(y_pred,y_test)\n",
        "cm=confusion_matrix(y_pred,y_test)"
      ],
      "metadata": {
        "id": "2enERuDOXpXC"
      },
      "execution_count": 33,
      "outputs": []
    },
    {
      "cell_type": "code",
      "source": [
        "unique_values, counts = np.unique(y_pred, return_counts=True)\n",
        "for value, count in zip(unique_values, counts):\n",
        "  print(f\"{value}: {count}\")"
      ],
      "metadata": {
        "colab": {
          "base_uri": "https://localhost:8080/"
        },
        "id": "3kOEOE9Oc4ri",
        "outputId": "fc01a20a-2eed-4180-fc34-6ef5ca1213b3"
      },
      "execution_count": 34,
      "outputs": [
        {
          "output_type": "stream",
          "name": "stdout",
          "text": [
            "False: 2510\n",
            "True: 490\n"
          ]
        }
      ]
    },
    {
      "cell_type": "code",
      "source": [
        "cm"
      ],
      "metadata": {
        "colab": {
          "base_uri": "https://localhost:8080/"
        },
        "id": "PcfDbeJ5Y6AU",
        "outputId": "642d19df-d959-4056-daf0-66e68e7e9702"
      },
      "execution_count": 35,
      "outputs": [
        {
          "output_type": "execute_result",
          "data": {
            "text/plain": [
              "array([[2226,  284],\n",
              "       [ 153,  337]])"
            ]
          },
          "metadata": {},
          "execution_count": 35
        }
      ]
    },
    {
      "cell_type": "code",
      "source": [
        "score"
      ],
      "metadata": {
        "colab": {
          "base_uri": "https://localhost:8080/"
        },
        "id": "D3juXfmQY7L_",
        "outputId": "a82c2701-1ff3-444b-b032-d295157c75f8"
      },
      "execution_count": 36,
      "outputs": [
        {
          "output_type": "execute_result",
          "data": {
            "text/plain": [
              "0.8543333333333333"
            ]
          },
          "metadata": {},
          "execution_count": 36
        }
      ]
    },
    {
      "cell_type": "code",
      "source": [
        "classifier.get_weights()"
      ],
      "metadata": {
        "colab": {
          "base_uri": "https://localhost:8080/"
        },
        "id": "qfNYYTOkazJu",
        "outputId": "92d546c9-e517-4f5e-f6b1-d930bbfe9692"
      },
      "execution_count": 37,
      "outputs": [
        {
          "output_type": "execute_result",
          "data": {
            "text/plain": [
              "[array([[ 2.13642195e-01, -5.13560735e-02,  2.96299070e-01,\n",
              "         -1.74952269e-01, -9.45454314e-02, -1.79568872e-01,\n",
              "         -2.62035906e-01,  4.57724810e-01,  1.24441221e-01,\n",
              "         -3.27074081e-01],\n",
              "        [-1.50813818e+00, -1.71590436e+00, -2.81823218e-01,\n",
              "          2.12382817e+00,  1.85183966e+00, -1.22299492e-01,\n",
              "         -1.15735984e+00,  8.12357605e-01, -5.79347014e-01,\n",
              "          3.11820412e+00],\n",
              "        [-2.24772170e-01, -1.52731150e-01,  1.37712669e+00,\n",
              "         -1.34060249e-01, -3.99557427e-02, -1.33418426e-01,\n",
              "         -1.91576734e-01,  1.20880954e-01, -1.02728203e-01,\n",
              "         -2.89242059e-01],\n",
              "        [-3.46715242e-01,  6.81765139e-01, -1.34278372e-01,\n",
              "         -1.66034430e-01,  2.69739270e-01, -1.71131468e+00,\n",
              "         -5.82034349e-01, -7.95279741e-01,  9.38913524e-01,\n",
              "         -3.85744572e-01],\n",
              "        [ 1.60492849e+00, -1.16895819e+00,  2.00417638e-01,\n",
              "          2.80219173e+00, -1.15635715e-01, -7.31751680e-01,\n",
              "          2.31751823e+00, -6.05643809e-01, -1.79780161e+00,\n",
              "         -9.69743073e-01],\n",
              "        [-2.09538624e-01,  3.86601724e-02,  6.84141934e-01,\n",
              "         -2.21465491e-02, -2.07661465e-01, -4.88854349e-01,\n",
              "          5.89842834e-02,  1.21535432e+00, -5.41490614e-01,\n",
              "         -3.94609213e-01],\n",
              "        [-3.09915602e-01,  5.43205202e-01,  9.75370765e-01,\n",
              "          1.06741059e+00,  1.82899666e+00,  1.44760787e+00,\n",
              "          3.62822980e-01,  1.44454277e+00,  7.05133736e-01,\n",
              "         -8.32099169e-02],\n",
              "        [-1.16285734e-01,  2.39854261e-01, -3.61150742e-01,\n",
              "          7.77951255e-02, -3.54384840e-01, -3.54473926e-02,\n",
              "          4.96635258e-01, -6.38549477e-02, -5.34654975e-01,\n",
              "          1.13497831e-01],\n",
              "        [-3.59354205e-02, -6.85647011e-01, -1.26814127e+00,\n",
              "         -3.38818848e-01, -3.03054065e-01,  1.73078194e-01,\n",
              "         -3.88773620e-01,  6.46920025e-01, -1.59313798e+00,\n",
              "          1.87198862e-01],\n",
              "        [-3.92208427e-01, -1.87289417e-01, -6.54209375e-01,\n",
              "          5.76428413e-01, -4.67003286e-01,  6.32044911e-01,\n",
              "         -2.86209630e-04,  7.54925832e-02,  3.75734359e-01,\n",
              "         -6.57527819e-02],\n",
              "        [ 4.75416720e-01,  7.25176156e-01,  1.66363716e-01,\n",
              "          1.53708041e-01,  7.54813671e-01,  1.07004988e+00,\n",
              "          2.62287229e-01, -6.04449622e-02,  6.78533673e-01,\n",
              "          3.80948216e-01]], dtype=float32),\n",
              " array([ 1.8492391 ,  1.5418516 ,  0.366398  , -0.9879531 , -2.4975283 ,\n",
              "         1.2519009 , -1.1588451 ,  0.7684627 , -0.40635678, -0.29682943],\n",
              "       dtype=float32),\n",
              " array([[ 1.2637806 ,  0.15777831, -0.25134748,  0.6652361 , -2.5815156 ,\n",
              "          0.1943718 ,  0.37818772,  0.28944364, -0.33420825,  0.11190485],\n",
              "        [-1.1471063 , -0.5195842 ,  0.14111757,  0.40797365, -1.3605465 ,\n",
              "          0.43207636, -1.7367579 ,  0.11407048, -0.12948449, -2.400761  ],\n",
              "        [ 0.18704417,  0.22784442, -0.17587449,  0.18024133, -0.36161068,\n",
              "          0.43832496, -0.78780836, -0.34753826, -0.19304986, -1.0592613 ],\n",
              "        [-0.04887166,  0.4156854 , -0.29868114, -0.2960012 , -3.0396183 ,\n",
              "          2.0204968 ,  1.215652  ,  1.366359  ,  0.13904612,  1.1718422 ],\n",
              "        [-1.3639797 ,  0.5162676 , -0.31559134, -1.3069019 , -1.0975493 ,\n",
              "          1.1622462 , -0.5553726 ,  0.08814509,  0.14431565, -2.0948389 ],\n",
              "        [ 0.29442033, -0.28257322, -0.37898964,  0.34460384,  0.01977144,\n",
              "         -0.4003996 , -1.2668209 , -0.67581433, -1.084391  , -2.365623  ],\n",
              "        [ 0.65584874, -0.55089843,  0.07228184,  0.5166449 , -0.7338558 ,\n",
              "          0.43894657,  0.60103476,  1.1243286 , -0.21955766,  0.89915687],\n",
              "        [-0.6051676 , -0.5072151 , -0.3580205 ,  0.1733302 , -0.31780198,\n",
              "          0.20662196, -1.2016603 , -1.5911218 , -0.70237744, -0.17924747],\n",
              "        [-1.1443342 ,  0.12560233, -0.25289828,  0.5899828 ,  0.10231427,\n",
              "          0.6605804 , -0.7592127 ,  0.8432318 , -0.5184267 , -0.12221004],\n",
              "        [-0.53044   , -0.1691302 , -0.8336988 , -1.3646406 ,  0.9762136 ,\n",
              "         -0.31498855, -1.2063234 , -0.47446713, -0.5325644 ,  0.24684553]],\n",
              "       dtype=float32),\n",
              " array([ 1.3707863 ,  0.03992382, -0.41922686,  2.018745  , -0.5011585 ,\n",
              "         0.19660936, -2.8439329 , -2.839794  , -0.3826509 , -1.7551095 ],\n",
              "       dtype=float32),\n",
              " array([[-1.44881353e-01, -5.79118379e-04,  2.49308776e-02,\n",
              "          5.52650541e-02, -1.47143513e-01,  5.87161660e-01,\n",
              "          1.23422384e-01],\n",
              "        [ 1.37401074e-02, -2.25484610e-01, -9.01474655e-01,\n",
              "         -2.31606826e-01, -4.61528599e-01,  8.13340619e-02,\n",
              "         -8.68223235e-02],\n",
              "        [ 1.37692196e-02,  1.54368281e-01,  3.67388815e-01,\n",
              "          6.60990119e-01, -4.17268910e-02, -2.12821215e-01,\n",
              "         -5.12933493e-01],\n",
              "        [-7.82993436e-01, -1.22319013e-01, -5.44612706e-01,\n",
              "         -3.60084862e-01, -1.66937068e-01,  5.35879135e-01,\n",
              "         -1.08645999e+00],\n",
              "        [-3.20107639e-01, -2.01438323e-01, -1.05517769e+00,\n",
              "         -6.24146163e-01, -4.42736372e-02, -4.82901722e-01,\n",
              "          4.15141553e-01],\n",
              "        [-3.53611052e-01, -1.24879725e-01, -1.53548911e-01,\n",
              "         -1.66748881e-01, -3.37749302e-01,  4.06419933e-01,\n",
              "         -9.17612493e-01],\n",
              "        [-9.96759892e-01,  7.51151443e-02, -9.23472226e-01,\n",
              "          1.28623411e-01, -1.49906343e-02, -1.45048332e+00,\n",
              "         -4.05461133e-01],\n",
              "        [ 2.49587402e-01, -2.96057612e-01, -1.40408564e+00,\n",
              "         -1.06072676e+00, -5.52694201e-01, -7.82769561e-01,\n",
              "          1.90252900e-01],\n",
              "        [-1.58633158e-01, -6.34903252e-01,  5.19953430e-01,\n",
              "         -8.11706111e-02, -2.13060100e-02, -2.76425242e-01,\n",
              "         -1.78025708e-01],\n",
              "        [-6.21475160e-01, -9.48811248e-02, -1.00213516e+00,\n",
              "         -6.76427364e-01,  8.16180259e-02, -9.08380091e-01,\n",
              "          1.58778816e-01]], dtype=float32),\n",
              " array([-0.389394  , -0.19664088,  0.0547265 , -0.15794314, -0.21023348,\n",
              "         1.881727  ,  0.5142834 ], dtype=float32),\n",
              " array([[-0.32116905],\n",
              "        [ 0.33528736],\n",
              "        [-0.02610404],\n",
              "        [-0.025745  ],\n",
              "        [ 0.19411683],\n",
              "        [-0.47833818],\n",
              "        [ 0.29094526]], dtype=float32),\n",
              " array([1.5800434], dtype=float32)]"
            ]
          },
          "metadata": {},
          "execution_count": 37
        }
      ]
    },
    {
      "cell_type": "code",
      "source": [
        "classifier.save_weights('model_weights.h5')"
      ],
      "metadata": {
        "id": "TmEEhi4qa_3O"
      },
      "execution_count": 38,
      "outputs": []
    },
    {
      "cell_type": "markdown",
      "source": [
        "**Regression Problem**"
      ],
      "metadata": {
        "id": "nLy8lRhZXlpD"
      }
    },
    {
      "cell_type": "code",
      "source": [
        "dataset=pd.read_csv(r'http://archive.ics.uci.edu/ml/machine-learning-databases/auto-mpg/auto-mpg.data',na_values='?', comment='\\t',\n",
        "                          sep=' ', skipinitialspace=True,names=['MPG', 'Cylinders', 'Displacement', 'Horsepower', 'Weight',\n",
        "                'Acceleration', 'Model Year', 'Origin'])\n",
        "dataset.head()"
      ],
      "metadata": {
        "id": "UqmHhUxQURuf",
        "colab": {
          "base_uri": "https://localhost:8080/",
          "height": 206
        },
        "outputId": "f539fcf6-ae5a-4afe-f70d-ee75f9a67e29"
      },
      "execution_count": 116,
      "outputs": [
        {
          "output_type": "execute_result",
          "data": {
            "text/plain": [
              "    MPG  Cylinders  Displacement  Horsepower  Weight  Acceleration  \\\n",
              "0  18.0          8         307.0       130.0  3504.0          12.0   \n",
              "1  15.0          8         350.0       165.0  3693.0          11.5   \n",
              "2  18.0          8         318.0       150.0  3436.0          11.0   \n",
              "3  16.0          8         304.0       150.0  3433.0          12.0   \n",
              "4  17.0          8         302.0       140.0  3449.0          10.5   \n",
              "\n",
              "   Model Year  Origin  \n",
              "0          70       1  \n",
              "1          70       1  \n",
              "2          70       1  \n",
              "3          70       1  \n",
              "4          70       1  "
            ],
            "text/html": [
              "\n",
              "  <div id=\"df-8e322d0d-d1a0-4692-9cda-a73b119c4bef\">\n",
              "    <div class=\"colab-df-container\">\n",
              "      <div>\n",
              "<style scoped>\n",
              "    .dataframe tbody tr th:only-of-type {\n",
              "        vertical-align: middle;\n",
              "    }\n",
              "\n",
              "    .dataframe tbody tr th {\n",
              "        vertical-align: top;\n",
              "    }\n",
              "\n",
              "    .dataframe thead th {\n",
              "        text-align: right;\n",
              "    }\n",
              "</style>\n",
              "<table border=\"1\" class=\"dataframe\">\n",
              "  <thead>\n",
              "    <tr style=\"text-align: right;\">\n",
              "      <th></th>\n",
              "      <th>MPG</th>\n",
              "      <th>Cylinders</th>\n",
              "      <th>Displacement</th>\n",
              "      <th>Horsepower</th>\n",
              "      <th>Weight</th>\n",
              "      <th>Acceleration</th>\n",
              "      <th>Model Year</th>\n",
              "      <th>Origin</th>\n",
              "    </tr>\n",
              "  </thead>\n",
              "  <tbody>\n",
              "    <tr>\n",
              "      <th>0</th>\n",
              "      <td>18.0</td>\n",
              "      <td>8</td>\n",
              "      <td>307.0</td>\n",
              "      <td>130.0</td>\n",
              "      <td>3504.0</td>\n",
              "      <td>12.0</td>\n",
              "      <td>70</td>\n",
              "      <td>1</td>\n",
              "    </tr>\n",
              "    <tr>\n",
              "      <th>1</th>\n",
              "      <td>15.0</td>\n",
              "      <td>8</td>\n",
              "      <td>350.0</td>\n",
              "      <td>165.0</td>\n",
              "      <td>3693.0</td>\n",
              "      <td>11.5</td>\n",
              "      <td>70</td>\n",
              "      <td>1</td>\n",
              "    </tr>\n",
              "    <tr>\n",
              "      <th>2</th>\n",
              "      <td>18.0</td>\n",
              "      <td>8</td>\n",
              "      <td>318.0</td>\n",
              "      <td>150.0</td>\n",
              "      <td>3436.0</td>\n",
              "      <td>11.0</td>\n",
              "      <td>70</td>\n",
              "      <td>1</td>\n",
              "    </tr>\n",
              "    <tr>\n",
              "      <th>3</th>\n",
              "      <td>16.0</td>\n",
              "      <td>8</td>\n",
              "      <td>304.0</td>\n",
              "      <td>150.0</td>\n",
              "      <td>3433.0</td>\n",
              "      <td>12.0</td>\n",
              "      <td>70</td>\n",
              "      <td>1</td>\n",
              "    </tr>\n",
              "    <tr>\n",
              "      <th>4</th>\n",
              "      <td>17.0</td>\n",
              "      <td>8</td>\n",
              "      <td>302.0</td>\n",
              "      <td>140.0</td>\n",
              "      <td>3449.0</td>\n",
              "      <td>10.5</td>\n",
              "      <td>70</td>\n",
              "      <td>1</td>\n",
              "    </tr>\n",
              "  </tbody>\n",
              "</table>\n",
              "</div>\n",
              "      <button class=\"colab-df-convert\" onclick=\"convertToInteractive('df-8e322d0d-d1a0-4692-9cda-a73b119c4bef')\"\n",
              "              title=\"Convert this dataframe to an interactive table.\"\n",
              "              style=\"display:none;\">\n",
              "        \n",
              "  <svg xmlns=\"http://www.w3.org/2000/svg\" height=\"24px\"viewBox=\"0 0 24 24\"\n",
              "       width=\"24px\">\n",
              "    <path d=\"M0 0h24v24H0V0z\" fill=\"none\"/>\n",
              "    <path d=\"M18.56 5.44l.94 2.06.94-2.06 2.06-.94-2.06-.94-.94-2.06-.94 2.06-2.06.94zm-11 1L8.5 8.5l.94-2.06 2.06-.94-2.06-.94L8.5 2.5l-.94 2.06-2.06.94zm10 10l.94 2.06.94-2.06 2.06-.94-2.06-.94-.94-2.06-.94 2.06-2.06.94z\"/><path d=\"M17.41 7.96l-1.37-1.37c-.4-.4-.92-.59-1.43-.59-.52 0-1.04.2-1.43.59L10.3 9.45l-7.72 7.72c-.78.78-.78 2.05 0 2.83L4 21.41c.39.39.9.59 1.41.59.51 0 1.02-.2 1.41-.59l7.78-7.78 2.81-2.81c.8-.78.8-2.07 0-2.86zM5.41 20L4 18.59l7.72-7.72 1.47 1.35L5.41 20z\"/>\n",
              "  </svg>\n",
              "      </button>\n",
              "      \n",
              "  <style>\n",
              "    .colab-df-container {\n",
              "      display:flex;\n",
              "      flex-wrap:wrap;\n",
              "      gap: 12px;\n",
              "    }\n",
              "\n",
              "    .colab-df-convert {\n",
              "      background-color: #E8F0FE;\n",
              "      border: none;\n",
              "      border-radius: 50%;\n",
              "      cursor: pointer;\n",
              "      display: none;\n",
              "      fill: #1967D2;\n",
              "      height: 32px;\n",
              "      padding: 0 0 0 0;\n",
              "      width: 32px;\n",
              "    }\n",
              "\n",
              "    .colab-df-convert:hover {\n",
              "      background-color: #E2EBFA;\n",
              "      box-shadow: 0px 1px 2px rgba(60, 64, 67, 0.3), 0px 1px 3px 1px rgba(60, 64, 67, 0.15);\n",
              "      fill: #174EA6;\n",
              "    }\n",
              "\n",
              "    [theme=dark] .colab-df-convert {\n",
              "      background-color: #3B4455;\n",
              "      fill: #D2E3FC;\n",
              "    }\n",
              "\n",
              "    [theme=dark] .colab-df-convert:hover {\n",
              "      background-color: #434B5C;\n",
              "      box-shadow: 0px 1px 3px 1px rgba(0, 0, 0, 0.15);\n",
              "      filter: drop-shadow(0px 1px 2px rgba(0, 0, 0, 0.3));\n",
              "      fill: #FFFFFF;\n",
              "    }\n",
              "  </style>\n",
              "\n",
              "      <script>\n",
              "        const buttonEl =\n",
              "          document.querySelector('#df-8e322d0d-d1a0-4692-9cda-a73b119c4bef button.colab-df-convert');\n",
              "        buttonEl.style.display =\n",
              "          google.colab.kernel.accessAllowed ? 'block' : 'none';\n",
              "\n",
              "        async function convertToInteractive(key) {\n",
              "          const element = document.querySelector('#df-8e322d0d-d1a0-4692-9cda-a73b119c4bef');\n",
              "          const dataTable =\n",
              "            await google.colab.kernel.invokeFunction('convertToInteractive',\n",
              "                                                     [key], {});\n",
              "          if (!dataTable) return;\n",
              "\n",
              "          const docLinkHtml = 'Like what you see? Visit the ' +\n",
              "            '<a target=\"_blank\" href=https://colab.research.google.com/notebooks/data_table.ipynb>data table notebook</a>'\n",
              "            + ' to learn more about interactive tables.';\n",
              "          element.innerHTML = '';\n",
              "          dataTable['output_type'] = 'display_data';\n",
              "          await google.colab.output.renderOutput(dataTable, element);\n",
              "          const docLink = document.createElement('div');\n",
              "          docLink.innerHTML = docLinkHtml;\n",
              "          element.appendChild(docLink);\n",
              "        }\n",
              "      </script>\n",
              "    </div>\n",
              "  </div>\n",
              "  "
            ]
          },
          "metadata": {},
          "execution_count": 116
        }
      ]
    },
    {
      "cell_type": "code",
      "source": [
        "dataset.isna().sum()\n"
      ],
      "metadata": {
        "id": "wd3Y9vpp6frG",
        "colab": {
          "base_uri": "https://localhost:8080/"
        },
        "outputId": "e53de468-9f3f-40cd-9e5e-2fd1f58957fc"
      },
      "execution_count": 117,
      "outputs": [
        {
          "output_type": "execute_result",
          "data": {
            "text/plain": [
              "MPG             0\n",
              "Cylinders       0\n",
              "Displacement    0\n",
              "Horsepower      6\n",
              "Weight          0\n",
              "Acceleration    0\n",
              "Model Year      0\n",
              "Origin          0\n",
              "dtype: int64"
            ]
          },
          "metadata": {},
          "execution_count": 117
        }
      ]
    },
    {
      "cell_type": "code",
      "source": [
        "dataset = dataset.dropna()"
      ],
      "metadata": {
        "id": "VQxXWO2v62R4"
      },
      "execution_count": 118,
      "outputs": []
    },
    {
      "cell_type": "code",
      "source": [
        "dataset['Origin'] = dataset['Origin'].map({1: 'USA', 2: 'Europe', 3: 'Japan'})\n",
        "dataset.head()\n"
      ],
      "metadata": {
        "id": "bZqioGpD65A_",
        "colab": {
          "base_uri": "https://localhost:8080/",
          "height": 206
        },
        "outputId": "97cfb591-e548-49d2-e647-aaaab2b223ae"
      },
      "execution_count": 119,
      "outputs": [
        {
          "output_type": "execute_result",
          "data": {
            "text/plain": [
              "    MPG  Cylinders  Displacement  Horsepower  Weight  Acceleration  \\\n",
              "0  18.0          8         307.0       130.0  3504.0          12.0   \n",
              "1  15.0          8         350.0       165.0  3693.0          11.5   \n",
              "2  18.0          8         318.0       150.0  3436.0          11.0   \n",
              "3  16.0          8         304.0       150.0  3433.0          12.0   \n",
              "4  17.0          8         302.0       140.0  3449.0          10.5   \n",
              "\n",
              "   Model Year Origin  \n",
              "0          70    USA  \n",
              "1          70    USA  \n",
              "2          70    USA  \n",
              "3          70    USA  \n",
              "4          70    USA  "
            ],
            "text/html": [
              "\n",
              "  <div id=\"df-ebf4b9ee-336a-4f69-bca6-d6bc1373817e\">\n",
              "    <div class=\"colab-df-container\">\n",
              "      <div>\n",
              "<style scoped>\n",
              "    .dataframe tbody tr th:only-of-type {\n",
              "        vertical-align: middle;\n",
              "    }\n",
              "\n",
              "    .dataframe tbody tr th {\n",
              "        vertical-align: top;\n",
              "    }\n",
              "\n",
              "    .dataframe thead th {\n",
              "        text-align: right;\n",
              "    }\n",
              "</style>\n",
              "<table border=\"1\" class=\"dataframe\">\n",
              "  <thead>\n",
              "    <tr style=\"text-align: right;\">\n",
              "      <th></th>\n",
              "      <th>MPG</th>\n",
              "      <th>Cylinders</th>\n",
              "      <th>Displacement</th>\n",
              "      <th>Horsepower</th>\n",
              "      <th>Weight</th>\n",
              "      <th>Acceleration</th>\n",
              "      <th>Model Year</th>\n",
              "      <th>Origin</th>\n",
              "    </tr>\n",
              "  </thead>\n",
              "  <tbody>\n",
              "    <tr>\n",
              "      <th>0</th>\n",
              "      <td>18.0</td>\n",
              "      <td>8</td>\n",
              "      <td>307.0</td>\n",
              "      <td>130.0</td>\n",
              "      <td>3504.0</td>\n",
              "      <td>12.0</td>\n",
              "      <td>70</td>\n",
              "      <td>USA</td>\n",
              "    </tr>\n",
              "    <tr>\n",
              "      <th>1</th>\n",
              "      <td>15.0</td>\n",
              "      <td>8</td>\n",
              "      <td>350.0</td>\n",
              "      <td>165.0</td>\n",
              "      <td>3693.0</td>\n",
              "      <td>11.5</td>\n",
              "      <td>70</td>\n",
              "      <td>USA</td>\n",
              "    </tr>\n",
              "    <tr>\n",
              "      <th>2</th>\n",
              "      <td>18.0</td>\n",
              "      <td>8</td>\n",
              "      <td>318.0</td>\n",
              "      <td>150.0</td>\n",
              "      <td>3436.0</td>\n",
              "      <td>11.0</td>\n",
              "      <td>70</td>\n",
              "      <td>USA</td>\n",
              "    </tr>\n",
              "    <tr>\n",
              "      <th>3</th>\n",
              "      <td>16.0</td>\n",
              "      <td>8</td>\n",
              "      <td>304.0</td>\n",
              "      <td>150.0</td>\n",
              "      <td>3433.0</td>\n",
              "      <td>12.0</td>\n",
              "      <td>70</td>\n",
              "      <td>USA</td>\n",
              "    </tr>\n",
              "    <tr>\n",
              "      <th>4</th>\n",
              "      <td>17.0</td>\n",
              "      <td>8</td>\n",
              "      <td>302.0</td>\n",
              "      <td>140.0</td>\n",
              "      <td>3449.0</td>\n",
              "      <td>10.5</td>\n",
              "      <td>70</td>\n",
              "      <td>USA</td>\n",
              "    </tr>\n",
              "  </tbody>\n",
              "</table>\n",
              "</div>\n",
              "      <button class=\"colab-df-convert\" onclick=\"convertToInteractive('df-ebf4b9ee-336a-4f69-bca6-d6bc1373817e')\"\n",
              "              title=\"Convert this dataframe to an interactive table.\"\n",
              "              style=\"display:none;\">\n",
              "        \n",
              "  <svg xmlns=\"http://www.w3.org/2000/svg\" height=\"24px\"viewBox=\"0 0 24 24\"\n",
              "       width=\"24px\">\n",
              "    <path d=\"M0 0h24v24H0V0z\" fill=\"none\"/>\n",
              "    <path d=\"M18.56 5.44l.94 2.06.94-2.06 2.06-.94-2.06-.94-.94-2.06-.94 2.06-2.06.94zm-11 1L8.5 8.5l.94-2.06 2.06-.94-2.06-.94L8.5 2.5l-.94 2.06-2.06.94zm10 10l.94 2.06.94-2.06 2.06-.94-2.06-.94-.94-2.06-.94 2.06-2.06.94z\"/><path d=\"M17.41 7.96l-1.37-1.37c-.4-.4-.92-.59-1.43-.59-.52 0-1.04.2-1.43.59L10.3 9.45l-7.72 7.72c-.78.78-.78 2.05 0 2.83L4 21.41c.39.39.9.59 1.41.59.51 0 1.02-.2 1.41-.59l7.78-7.78 2.81-2.81c.8-.78.8-2.07 0-2.86zM5.41 20L4 18.59l7.72-7.72 1.47 1.35L5.41 20z\"/>\n",
              "  </svg>\n",
              "      </button>\n",
              "      \n",
              "  <style>\n",
              "    .colab-df-container {\n",
              "      display:flex;\n",
              "      flex-wrap:wrap;\n",
              "      gap: 12px;\n",
              "    }\n",
              "\n",
              "    .colab-df-convert {\n",
              "      background-color: #E8F0FE;\n",
              "      border: none;\n",
              "      border-radius: 50%;\n",
              "      cursor: pointer;\n",
              "      display: none;\n",
              "      fill: #1967D2;\n",
              "      height: 32px;\n",
              "      padding: 0 0 0 0;\n",
              "      width: 32px;\n",
              "    }\n",
              "\n",
              "    .colab-df-convert:hover {\n",
              "      background-color: #E2EBFA;\n",
              "      box-shadow: 0px 1px 2px rgba(60, 64, 67, 0.3), 0px 1px 3px 1px rgba(60, 64, 67, 0.15);\n",
              "      fill: #174EA6;\n",
              "    }\n",
              "\n",
              "    [theme=dark] .colab-df-convert {\n",
              "      background-color: #3B4455;\n",
              "      fill: #D2E3FC;\n",
              "    }\n",
              "\n",
              "    [theme=dark] .colab-df-convert:hover {\n",
              "      background-color: #434B5C;\n",
              "      box-shadow: 0px 1px 3px 1px rgba(0, 0, 0, 0.15);\n",
              "      filter: drop-shadow(0px 1px 2px rgba(0, 0, 0, 0.3));\n",
              "      fill: #FFFFFF;\n",
              "    }\n",
              "  </style>\n",
              "\n",
              "      <script>\n",
              "        const buttonEl =\n",
              "          document.querySelector('#df-ebf4b9ee-336a-4f69-bca6-d6bc1373817e button.colab-df-convert');\n",
              "        buttonEl.style.display =\n",
              "          google.colab.kernel.accessAllowed ? 'block' : 'none';\n",
              "\n",
              "        async function convertToInteractive(key) {\n",
              "          const element = document.querySelector('#df-ebf4b9ee-336a-4f69-bca6-d6bc1373817e');\n",
              "          const dataTable =\n",
              "            await google.colab.kernel.invokeFunction('convertToInteractive',\n",
              "                                                     [key], {});\n",
              "          if (!dataTable) return;\n",
              "\n",
              "          const docLinkHtml = 'Like what you see? Visit the ' +\n",
              "            '<a target=\"_blank\" href=https://colab.research.google.com/notebooks/data_table.ipynb>data table notebook</a>'\n",
              "            + ' to learn more about interactive tables.';\n",
              "          element.innerHTML = '';\n",
              "          dataTable['output_type'] = 'display_data';\n",
              "          await google.colab.output.renderOutput(dataTable, element);\n",
              "          const docLink = document.createElement('div');\n",
              "          docLink.innerHTML = docLinkHtml;\n",
              "          element.appendChild(docLink);\n",
              "        }\n",
              "      </script>\n",
              "    </div>\n",
              "  </div>\n",
              "  "
            ]
          },
          "metadata": {},
          "execution_count": 119
        }
      ]
    },
    {
      "cell_type": "code",
      "source": [
        "dataset=pd.get_dummies(dataset, columns=['Origin'], prefix='', prefix_sep='',drop_first=True)"
      ],
      "metadata": {
        "id": "oXR74nqZ69Qv"
      },
      "execution_count": 125,
      "outputs": []
    },
    {
      "cell_type": "code",
      "source": [
        "dataset.head()"
      ],
      "metadata": {
        "colab": {
          "base_uri": "https://localhost:8080/",
          "height": 206
        },
        "id": "K_109qLs7CQj",
        "outputId": "5de394de-9d6d-45be-8fb7-d63a2d93bc35"
      },
      "execution_count": 126,
      "outputs": [
        {
          "output_type": "execute_result",
          "data": {
            "text/plain": [
              "    MPG  Cylinders  Displacement  Horsepower  Weight  Acceleration  \\\n",
              "0  18.0          8         307.0       130.0  3504.0          12.0   \n",
              "1  15.0          8         350.0       165.0  3693.0          11.5   \n",
              "2  18.0          8         318.0       150.0  3436.0          11.0   \n",
              "3  16.0          8         304.0       150.0  3433.0          12.0   \n",
              "4  17.0          8         302.0       140.0  3449.0          10.5   \n",
              "\n",
              "   Model Year  Japan  USA  \n",
              "0          70      0    1  \n",
              "1          70      0    1  \n",
              "2          70      0    1  \n",
              "3          70      0    1  \n",
              "4          70      0    1  "
            ],
            "text/html": [
              "\n",
              "  <div id=\"df-6a4cf855-8bfd-4104-99f4-f19be0f1118d\">\n",
              "    <div class=\"colab-df-container\">\n",
              "      <div>\n",
              "<style scoped>\n",
              "    .dataframe tbody tr th:only-of-type {\n",
              "        vertical-align: middle;\n",
              "    }\n",
              "\n",
              "    .dataframe tbody tr th {\n",
              "        vertical-align: top;\n",
              "    }\n",
              "\n",
              "    .dataframe thead th {\n",
              "        text-align: right;\n",
              "    }\n",
              "</style>\n",
              "<table border=\"1\" class=\"dataframe\">\n",
              "  <thead>\n",
              "    <tr style=\"text-align: right;\">\n",
              "      <th></th>\n",
              "      <th>MPG</th>\n",
              "      <th>Cylinders</th>\n",
              "      <th>Displacement</th>\n",
              "      <th>Horsepower</th>\n",
              "      <th>Weight</th>\n",
              "      <th>Acceleration</th>\n",
              "      <th>Model Year</th>\n",
              "      <th>Japan</th>\n",
              "      <th>USA</th>\n",
              "    </tr>\n",
              "  </thead>\n",
              "  <tbody>\n",
              "    <tr>\n",
              "      <th>0</th>\n",
              "      <td>18.0</td>\n",
              "      <td>8</td>\n",
              "      <td>307.0</td>\n",
              "      <td>130.0</td>\n",
              "      <td>3504.0</td>\n",
              "      <td>12.0</td>\n",
              "      <td>70</td>\n",
              "      <td>0</td>\n",
              "      <td>1</td>\n",
              "    </tr>\n",
              "    <tr>\n",
              "      <th>1</th>\n",
              "      <td>15.0</td>\n",
              "      <td>8</td>\n",
              "      <td>350.0</td>\n",
              "      <td>165.0</td>\n",
              "      <td>3693.0</td>\n",
              "      <td>11.5</td>\n",
              "      <td>70</td>\n",
              "      <td>0</td>\n",
              "      <td>1</td>\n",
              "    </tr>\n",
              "    <tr>\n",
              "      <th>2</th>\n",
              "      <td>18.0</td>\n",
              "      <td>8</td>\n",
              "      <td>318.0</td>\n",
              "      <td>150.0</td>\n",
              "      <td>3436.0</td>\n",
              "      <td>11.0</td>\n",
              "      <td>70</td>\n",
              "      <td>0</td>\n",
              "      <td>1</td>\n",
              "    </tr>\n",
              "    <tr>\n",
              "      <th>3</th>\n",
              "      <td>16.0</td>\n",
              "      <td>8</td>\n",
              "      <td>304.0</td>\n",
              "      <td>150.0</td>\n",
              "      <td>3433.0</td>\n",
              "      <td>12.0</td>\n",
              "      <td>70</td>\n",
              "      <td>0</td>\n",
              "      <td>1</td>\n",
              "    </tr>\n",
              "    <tr>\n",
              "      <th>4</th>\n",
              "      <td>17.0</td>\n",
              "      <td>8</td>\n",
              "      <td>302.0</td>\n",
              "      <td>140.0</td>\n",
              "      <td>3449.0</td>\n",
              "      <td>10.5</td>\n",
              "      <td>70</td>\n",
              "      <td>0</td>\n",
              "      <td>1</td>\n",
              "    </tr>\n",
              "  </tbody>\n",
              "</table>\n",
              "</div>\n",
              "      <button class=\"colab-df-convert\" onclick=\"convertToInteractive('df-6a4cf855-8bfd-4104-99f4-f19be0f1118d')\"\n",
              "              title=\"Convert this dataframe to an interactive table.\"\n",
              "              style=\"display:none;\">\n",
              "        \n",
              "  <svg xmlns=\"http://www.w3.org/2000/svg\" height=\"24px\"viewBox=\"0 0 24 24\"\n",
              "       width=\"24px\">\n",
              "    <path d=\"M0 0h24v24H0V0z\" fill=\"none\"/>\n",
              "    <path d=\"M18.56 5.44l.94 2.06.94-2.06 2.06-.94-2.06-.94-.94-2.06-.94 2.06-2.06.94zm-11 1L8.5 8.5l.94-2.06 2.06-.94-2.06-.94L8.5 2.5l-.94 2.06-2.06.94zm10 10l.94 2.06.94-2.06 2.06-.94-2.06-.94-.94-2.06-.94 2.06-2.06.94z\"/><path d=\"M17.41 7.96l-1.37-1.37c-.4-.4-.92-.59-1.43-.59-.52 0-1.04.2-1.43.59L10.3 9.45l-7.72 7.72c-.78.78-.78 2.05 0 2.83L4 21.41c.39.39.9.59 1.41.59.51 0 1.02-.2 1.41-.59l7.78-7.78 2.81-2.81c.8-.78.8-2.07 0-2.86zM5.41 20L4 18.59l7.72-7.72 1.47 1.35L5.41 20z\"/>\n",
              "  </svg>\n",
              "      </button>\n",
              "      \n",
              "  <style>\n",
              "    .colab-df-container {\n",
              "      display:flex;\n",
              "      flex-wrap:wrap;\n",
              "      gap: 12px;\n",
              "    }\n",
              "\n",
              "    .colab-df-convert {\n",
              "      background-color: #E8F0FE;\n",
              "      border: none;\n",
              "      border-radius: 50%;\n",
              "      cursor: pointer;\n",
              "      display: none;\n",
              "      fill: #1967D2;\n",
              "      height: 32px;\n",
              "      padding: 0 0 0 0;\n",
              "      width: 32px;\n",
              "    }\n",
              "\n",
              "    .colab-df-convert:hover {\n",
              "      background-color: #E2EBFA;\n",
              "      box-shadow: 0px 1px 2px rgba(60, 64, 67, 0.3), 0px 1px 3px 1px rgba(60, 64, 67, 0.15);\n",
              "      fill: #174EA6;\n",
              "    }\n",
              "\n",
              "    [theme=dark] .colab-df-convert {\n",
              "      background-color: #3B4455;\n",
              "      fill: #D2E3FC;\n",
              "    }\n",
              "\n",
              "    [theme=dark] .colab-df-convert:hover {\n",
              "      background-color: #434B5C;\n",
              "      box-shadow: 0px 1px 3px 1px rgba(0, 0, 0, 0.15);\n",
              "      filter: drop-shadow(0px 1px 2px rgba(0, 0, 0, 0.3));\n",
              "      fill: #FFFFFF;\n",
              "    }\n",
              "  </style>\n",
              "\n",
              "      <script>\n",
              "        const buttonEl =\n",
              "          document.querySelector('#df-6a4cf855-8bfd-4104-99f4-f19be0f1118d button.colab-df-convert');\n",
              "        buttonEl.style.display =\n",
              "          google.colab.kernel.accessAllowed ? 'block' : 'none';\n",
              "\n",
              "        async function convertToInteractive(key) {\n",
              "          const element = document.querySelector('#df-6a4cf855-8bfd-4104-99f4-f19be0f1118d');\n",
              "          const dataTable =\n",
              "            await google.colab.kernel.invokeFunction('convertToInteractive',\n",
              "                                                     [key], {});\n",
              "          if (!dataTable) return;\n",
              "\n",
              "          const docLinkHtml = 'Like what you see? Visit the ' +\n",
              "            '<a target=\"_blank\" href=https://colab.research.google.com/notebooks/data_table.ipynb>data table notebook</a>'\n",
              "            + ' to learn more about interactive tables.';\n",
              "          element.innerHTML = '';\n",
              "          dataTable['output_type'] = 'display_data';\n",
              "          await google.colab.output.renderOutput(dataTable, element);\n",
              "          const docLink = document.createElement('div');\n",
              "          docLink.innerHTML = docLinkHtml;\n",
              "          element.appendChild(docLink);\n",
              "        }\n",
              "      </script>\n",
              "    </div>\n",
              "  </div>\n",
              "  "
            ]
          },
          "metadata": {},
          "execution_count": 126
        }
      ]
    },
    {
      "cell_type": "code",
      "source": [
        "x=dataset.iloc[:,1:10]\n",
        "y=dataset.iloc[:,0]"
      ],
      "metadata": {
        "id": "ET3gNwq1mqCG"
      },
      "execution_count": 130,
      "outputs": []
    },
    {
      "cell_type": "code",
      "source": [
        "from sklearn.model_selection import train_test_split\n",
        "x_train,x_test,y_train,y_test=train_test_split(x,y,test_size=0.3,random_state=0)"
      ],
      "metadata": {
        "id": "6ql1iANG7Crh"
      },
      "execution_count": 131,
      "outputs": []
    },
    {
      "cell_type": "code",
      "source": [
        "from sklearn.preprocessing import StandardScaler\n",
        "scaler = StandardScaler()\n",
        "x_train_scaled = scaler.fit_transform(x_train)\n",
        "x_test_scaled= scaler.transform(x_test)"
      ],
      "metadata": {
        "id": "BEcVW9d97LUW"
      },
      "execution_count": 132,
      "outputs": []
    },
    {
      "cell_type": "code",
      "source": [
        "from tensorflow.keras.models import Sequential\n",
        "from tensorflow.keras.layers import Dense\n",
        "from tensorflow.keras.layers import LeakyReLU, PReLU, ReLU\n",
        "from tensorflow.keras.layers import Dropout"
      ],
      "metadata": {
        "id": "2BsPSLdI7Muf"
      },
      "execution_count": 133,
      "outputs": []
    },
    {
      "cell_type": "code",
      "source": [
        "model=Sequential()\n",
        "model.add(Dense(units=8,activation='relu', input_shape=(8,)))\n",
        "model.add(Dense(units=10,activation='relu'))\n",
        "model.add(Dense(units=7,activation='relu'))\n",
        "model.add(Dense(units=1,activation='linear'))"
      ],
      "metadata": {
        "id": "-8zuIaIl7Pzq"
      },
      "execution_count": 141,
      "outputs": []
    },
    {
      "cell_type": "code",
      "source": [
        "model.summary()"
      ],
      "metadata": {
        "colab": {
          "base_uri": "https://localhost:8080/"
        },
        "id": "-_LczRMRaF-d",
        "outputId": "e63ea634-3a25-4292-9cc4-6bdacb954ced"
      },
      "execution_count": 142,
      "outputs": [
        {
          "output_type": "stream",
          "name": "stdout",
          "text": [
            "Model: \"sequential_5\"\n",
            "_________________________________________________________________\n",
            " Layer (type)                Output Shape              Param #   \n",
            "=================================================================\n",
            " dense_20 (Dense)            (None, 8)                 72        \n",
            "                                                                 \n",
            " dense_21 (Dense)            (None, 10)                90        \n",
            "                                                                 \n",
            " dense_22 (Dense)            (None, 7)                 77        \n",
            "                                                                 \n",
            " dense_23 (Dense)            (None, 1)                 8         \n",
            "                                                                 \n",
            "=================================================================\n",
            "Total params: 247\n",
            "Trainable params: 247\n",
            "Non-trainable params: 0\n",
            "_________________________________________________________________\n"
          ]
        }
      ]
    },
    {
      "cell_type": "code",
      "source": [
        "opt=tf.keras.optimizers.Adam(learning_rate=0.01)\n",
        "\n",
        "mse_loss=tf.keras.losses.MeanSquaredError(\n",
        "    name='mean_squared_error'\n",
        ")\n",
        "\n",
        "mse_metrics=tf.keras.metrics.MeanSquaredError(\n",
        "    name='mean_squared_error', dtype=None\n",
        ")"
      ],
      "metadata": {
        "id": "heT0hx8paNg_"
      },
      "execution_count": 143,
      "outputs": []
    },
    {
      "cell_type": "code",
      "source": [
        "model.compile(optimizer=opt,loss=mse_loss,metrics=['mae'])"
      ],
      "metadata": {
        "id": "iAGTw9U7aQCO"
      },
      "execution_count": 144,
      "outputs": []
    },
    {
      "cell_type": "code",
      "source": [
        "early_stopping=tf.keras.callbacks.EarlyStopping(monitor=\"mae\",min_delta=0.0001,patience=10,verbose=1,mode=\"auto\",baseline=None,restore_best_weights=False)\n"
      ],
      "metadata": {
        "id": "MreKZll5cCsh"
      },
      "execution_count": 145,
      "outputs": []
    },
    {
      "cell_type": "code",
      "source": [
        "model_history=model.fit(np.array(x_train_scaled),y_train,validation_data=(x_test_scaled,y_test),batch_size=10,epochs=100,callbacks=early_stopping)"
      ],
      "metadata": {
        "colab": {
          "base_uri": "https://localhost:8080/"
        },
        "id": "VvVBBpV7cIEF",
        "outputId": "dc6c315d-9506-4a4c-bf28-9ddc2fca1a5a"
      },
      "execution_count": 146,
      "outputs": [
        {
          "output_type": "stream",
          "name": "stdout",
          "text": [
            "Epoch 1/100\n",
            "28/28 [==============================] - 3s 11ms/step - loss: 451.9219 - mae: 19.3633 - val_loss: 182.6700 - val_mae: 12.0146\n",
            "Epoch 2/100\n",
            "28/28 [==============================] - 0s 5ms/step - loss: 56.0896 - mae: 5.8814 - val_loss: 22.9477 - val_mae: 3.7518\n",
            "Epoch 3/100\n",
            "28/28 [==============================] - 0s 5ms/step - loss: 14.1806 - mae: 2.7989 - val_loss: 12.2496 - val_mae: 2.5153\n",
            "Epoch 4/100\n",
            "28/28 [==============================] - 0s 7ms/step - loss: 9.6912 - mae: 2.2400 - val_loss: 11.2125 - val_mae: 2.2907\n",
            "Epoch 5/100\n",
            "28/28 [==============================] - 0s 5ms/step - loss: 9.4135 - mae: 2.2040 - val_loss: 9.9517 - val_mae: 2.2128\n",
            "Epoch 6/100\n",
            "28/28 [==============================] - 0s 7ms/step - loss: 9.7111 - mae: 2.2603 - val_loss: 13.1706 - val_mae: 2.6316\n",
            "Epoch 7/100\n",
            "28/28 [==============================] - 0s 6ms/step - loss: 9.3937 - mae: 2.1759 - val_loss: 9.2846 - val_mae: 2.1278\n",
            "Epoch 8/100\n",
            "28/28 [==============================] - 0s 5ms/step - loss: 8.3763 - mae: 2.0938 - val_loss: 9.2327 - val_mae: 2.0593\n",
            "Epoch 9/100\n",
            "28/28 [==============================] - 0s 5ms/step - loss: 7.8859 - mae: 1.9790 - val_loss: 9.5592 - val_mae: 2.1457\n",
            "Epoch 10/100\n",
            "28/28 [==============================] - 0s 7ms/step - loss: 7.5748 - mae: 2.0078 - val_loss: 9.1043 - val_mae: 2.1761\n",
            "Epoch 11/100\n",
            "28/28 [==============================] - 0s 6ms/step - loss: 7.4890 - mae: 1.9830 - val_loss: 8.2502 - val_mae: 2.0960\n",
            "Epoch 12/100\n",
            "28/28 [==============================] - 0s 6ms/step - loss: 7.8813 - mae: 1.9911 - val_loss: 7.8628 - val_mae: 1.9849\n",
            "Epoch 13/100\n",
            "28/28 [==============================] - 0s 6ms/step - loss: 7.2975 - mae: 1.9543 - val_loss: 8.2862 - val_mae: 1.9624\n",
            "Epoch 14/100\n",
            "28/28 [==============================] - 0s 7ms/step - loss: 6.9793 - mae: 1.9617 - val_loss: 7.7248 - val_mae: 1.9932\n",
            "Epoch 15/100\n",
            "28/28 [==============================] - 0s 6ms/step - loss: 8.7498 - mae: 2.1748 - val_loss: 7.5865 - val_mae: 1.9224\n",
            "Epoch 16/100\n",
            "28/28 [==============================] - 0s 7ms/step - loss: 6.9349 - mae: 1.9210 - val_loss: 8.2795 - val_mae: 1.9407\n",
            "Epoch 17/100\n",
            "28/28 [==============================] - 0s 5ms/step - loss: 7.7374 - mae: 2.0447 - val_loss: 7.8612 - val_mae: 1.8984\n",
            "Epoch 18/100\n",
            "28/28 [==============================] - 0s 7ms/step - loss: 6.8009 - mae: 1.9233 - val_loss: 10.2987 - val_mae: 2.2690\n",
            "Epoch 19/100\n",
            "28/28 [==============================] - 0s 5ms/step - loss: 7.4889 - mae: 1.9890 - val_loss: 7.5920 - val_mae: 1.8763\n",
            "Epoch 20/100\n",
            "28/28 [==============================] - 0s 6ms/step - loss: 6.8131 - mae: 1.9379 - val_loss: 7.2054 - val_mae: 1.8312\n",
            "Epoch 21/100\n",
            "28/28 [==============================] - 0s 6ms/step - loss: 6.7388 - mae: 1.9067 - val_loss: 7.9850 - val_mae: 1.9051\n",
            "Epoch 22/100\n",
            "28/28 [==============================] - 0s 5ms/step - loss: 7.6497 - mae: 1.9837 - val_loss: 7.9866 - val_mae: 1.9034\n",
            "Epoch 23/100\n",
            "28/28 [==============================] - 0s 5ms/step - loss: 6.7070 - mae: 1.8468 - val_loss: 7.4103 - val_mae: 1.8482\n",
            "Epoch 24/100\n",
            "28/28 [==============================] - 0s 6ms/step - loss: 7.6121 - mae: 1.9794 - val_loss: 7.3791 - val_mae: 1.8781\n",
            "Epoch 25/100\n",
            "28/28 [==============================] - 0s 5ms/step - loss: 6.9031 - mae: 1.8903 - val_loss: 8.0993 - val_mae: 1.9350\n",
            "Epoch 26/100\n",
            "28/28 [==============================] - 0s 6ms/step - loss: 6.7753 - mae: 1.9556 - val_loss: 7.7944 - val_mae: 2.0185\n",
            "Epoch 27/100\n",
            "28/28 [==============================] - 0s 7ms/step - loss: 7.1059 - mae: 1.9706 - val_loss: 7.3444 - val_mae: 1.8554\n",
            "Epoch 28/100\n",
            "28/28 [==============================] - 0s 5ms/step - loss: 6.7504 - mae: 1.8745 - val_loss: 8.2034 - val_mae: 1.9481\n",
            "Epoch 29/100\n",
            "28/28 [==============================] - 0s 5ms/step - loss: 6.7278 - mae: 1.9710 - val_loss: 7.3165 - val_mae: 1.8919\n",
            "Epoch 30/100\n",
            "28/28 [==============================] - 0s 5ms/step - loss: 7.0126 - mae: 1.9915 - val_loss: 7.6350 - val_mae: 1.9041\n",
            "Epoch 31/100\n",
            "28/28 [==============================] - 0s 5ms/step - loss: 7.2099 - mae: 2.0139 - val_loss: 7.9031 - val_mae: 1.9888\n",
            "Epoch 32/100\n",
            "28/28 [==============================] - 0s 6ms/step - loss: 6.9650 - mae: 1.9752 - val_loss: 7.6985 - val_mae: 1.9980\n",
            "Epoch 33/100\n",
            "28/28 [==============================] - 0s 7ms/step - loss: 7.0430 - mae: 2.0247 - val_loss: 8.9481 - val_mae: 2.0591\n",
            "Epoch 33: early stopping\n"
          ]
        }
      ]
    },
    {
      "cell_type": "code",
      "source": [
        "model_history.history.keys()"
      ],
      "metadata": {
        "colab": {
          "base_uri": "https://localhost:8080/"
        },
        "id": "-rOQsJJFcOY6",
        "outputId": "97421f60-2cac-4104-ffda-f5099728b1c4"
      },
      "execution_count": 147,
      "outputs": [
        {
          "output_type": "execute_result",
          "data": {
            "text/plain": [
              "dict_keys(['loss', 'mae', 'val_loss', 'val_mae'])"
            ]
          },
          "metadata": {},
          "execution_count": 147
        }
      ]
    },
    {
      "cell_type": "code",
      "source": [
        "plt.plot(model_history.history['mae'])\n",
        "plt.plot(model_history.history['val_mae'])\n",
        "plt.plot(model_history.history['val_loss'])\n",
        "plt.legend(['mae','val_mae','val_loss'])\n",
        "plt.show"
      ],
      "metadata": {
        "colab": {
          "base_uri": "https://localhost:8080/",
          "height": 447
        },
        "id": "eE0icLBLdE0y",
        "outputId": "bd951779-5bb3-4685-f77e-47117c3e216c"
      },
      "execution_count": 148,
      "outputs": [
        {
          "output_type": "execute_result",
          "data": {
            "text/plain": [
              "<function matplotlib.pyplot.show(close=None, block=None)>"
            ]
          },
          "metadata": {},
          "execution_count": 148
        },
        {
          "output_type": "display_data",
          "data": {
            "text/plain": [
              "<Figure size 640x480 with 1 Axes>"
            ],
            "image/png": "[encoded data removed]"
          },
          "metadata": {}
        }
      ]
    },
    {
      "cell_type": "code",
      "source": [
        "y_pred=model.predict(x_test_scaled)"
      ],
      "metadata": {
        "colab": {
          "base_uri": "https://localhost:8080/"
        },
        "id": "M6qfn-_ldMEX",
        "outputId": "f9021e1d-81a7-4bd8-f498-0535b8ea0373"
      },
      "execution_count": 149,
      "outputs": [
        {
          "output_type": "stream",
          "name": "stdout",
          "text": [
            "4/4 [==============================] - 0s 3ms/step\n"
          ]
        }
      ]
    },
    {
      "cell_type": "code",
      "source": [
        "y_pred"
      ],
      "metadata": {
        "colab": {
          "base_uri": "https://localhost:8080/"
        },
        "id": "WuKRbHh2fXji",
        "outputId": "1e17accd-68a8-4216-c4e5-a729ba84cecf"
      },
      "execution_count": 150,
      "outputs": [
        {
          "output_type": "execute_result",
          "data": {
            "text/plain": [
              "array([[29.96634  ],\n",
              "       [23.585491 ],\n",
              "       [12.191392 ],\n",
              "       [35.777603 ],\n",
              "       [32.819794 ],\n",
              "       [19.371511 ],\n",
              "       [34.901413 ],\n",
              "       [27.872728 ],\n",
              "       [18.444866 ],\n",
              "       [24.384838 ],\n",
              "       [27.646786 ],\n",
              "       [13.872722 ],\n",
              "       [24.115492 ],\n",
              "       [11.924136 ],\n",
              "       [16.475067 ],\n",
              "       [31.05505  ],\n",
              "       [22.49854  ],\n",
              "       [12.641889 ],\n",
              "       [24.260168 ],\n",
              "       [25.552086 ],\n",
              "       [16.107061 ],\n",
              "       [16.368242 ],\n",
              "       [20.00409  ],\n",
              "       [24.626102 ],\n",
              "       [31.33301  ],\n",
              "       [12.9202585],\n",
              "       [28.12072  ],\n",
              "       [25.568005 ],\n",
              "       [18.917702 ],\n",
              "       [14.235244 ],\n",
              "       [15.826186 ],\n",
              "       [30.376987 ],\n",
              "       [22.92117  ],\n",
              "       [28.392223 ],\n",
              "       [19.23936  ],\n",
              "       [25.773216 ],\n",
              "       [28.852081 ],\n",
              "       [13.4928465],\n",
              "       [14.639779 ],\n",
              "       [12.545459 ],\n",
              "       [13.682928 ],\n",
              "       [32.658566 ],\n",
              "       [29.094149 ],\n",
              "       [13.378416 ],\n",
              "       [28.339027 ],\n",
              "       [14.987036 ],\n",
              "       [30.073725 ],\n",
              "       [12.335944 ],\n",
              "       [15.902472 ],\n",
              "       [19.457968 ],\n",
              "       [26.142628 ],\n",
              "       [14.484338 ],\n",
              "       [ 9.858712 ],\n",
              "       [21.853327 ],\n",
              "       [31.558971 ],\n",
              "       [30.081165 ],\n",
              "       [23.49983  ],\n",
              "       [19.066845 ],\n",
              "       [31.499424 ],\n",
              "       [24.438213 ],\n",
              "       [18.740017 ],\n",
              "       [26.767824 ],\n",
              "       [30.20162  ],\n",
              "       [12.757667 ],\n",
              "       [25.567898 ],\n",
              "       [16.015114 ],\n",
              "       [12.9463005],\n",
              "       [29.094099 ],\n",
              "       [20.945948 ],\n",
              "       [34.12568  ],\n",
              "       [32.491035 ],\n",
              "       [31.067785 ],\n",
              "       [18.971893 ],\n",
              "       [15.471726 ],\n",
              "       [18.766493 ],\n",
              "       [13.060424 ],\n",
              "       [24.428364 ],\n",
              "       [18.022455 ],\n",
              "       [29.877552 ],\n",
              "       [30.345726 ],\n",
              "       [19.297956 ],\n",
              "       [33.89805  ],\n",
              "       [18.291576 ],\n",
              "       [22.686247 ],\n",
              "       [11.908761 ],\n",
              "       [22.98349  ],\n",
              "       [22.553368 ],\n",
              "       [27.263577 ],\n",
              "       [33.28854  ],\n",
              "       [23.084435 ],\n",
              "       [24.285488 ],\n",
              "       [12.802806 ],\n",
              "       [22.1736   ],\n",
              "       [18.907295 ],\n",
              "       [23.720154 ],\n",
              "       [20.986893 ],\n",
              "       [36.247204 ],\n",
              "       [20.574394 ],\n",
              "       [32.173294 ],\n",
              "       [31.198105 ],\n",
              "       [11.602675 ],\n",
              "       [26.464819 ],\n",
              "       [22.883629 ],\n",
              "       [28.918276 ],\n",
              "       [34.3681   ],\n",
              "       [25.515812 ],\n",
              "       [24.720177 ],\n",
              "       [18.89964  ],\n",
              "       [40.695614 ],\n",
              "       [12.309694 ],\n",
              "       [15.055398 ],\n",
              "       [32.796787 ],\n",
              "       [26.779556 ],\n",
              "       [20.22668  ],\n",
              "       [28.86909  ],\n",
              "       [21.839619 ],\n",
              "       [26.167164 ],\n",
              "       [17.73695  ]], dtype=float32)"
            ]
          },
          "metadata": {},
          "execution_count": 150
        }
      ]
    },
    {
      "cell_type": "code",
      "source": [
        "from sklearn.metrics import mean_squared_error, mean_absolute_error, r2_score"
      ],
      "metadata": {
        "id": "B7Bpy195fZPR"
      },
      "execution_count": 151,
      "outputs": []
    },
    {
      "cell_type": "code",
      "source": [
        "mse = mean_squared_error(y_test, y_pred)\n",
        "rmse = mean_squared_error(y_test, y_pred, squared=False)\n",
        "mae = mean_absolute_error(y_test, y_pred)\n",
        "r2 = r2_score(y_test, y_pred)"
      ],
      "metadata": {
        "id": "ONG98AePf__1"
      },
      "execution_count": 152,
      "outputs": []
    },
    {
      "cell_type": "code",
      "source": [
        "print(\"Mean Squared Error:\", mse)\n",
        "print(\"Root Mean Squared Error:\", rmse)\n",
        "print(\"Mean Absolute Error:\", mae)\n",
        "print(\"R-squared Score:\", r2)"
      ],
      "metadata": {
        "colab": {
          "base_uri": "https://localhost:8080/"
        },
        "id": "UQWfX9E3gKW_",
        "outputId": "d3899173-6fea-45be-8faf-8dc2aa77a6a1"
      },
      "execution_count": 153,
      "outputs": [
        {
          "output_type": "stream",
          "name": "stdout",
          "text": [
            "Mean Squared Error: 8.948062955645234\n",
            "Root Mean Squared Error: 2.9913313015520755\n",
            "Mean Absolute Error: 2.059103522866459\n",
            "R-squared Score: 0.8545398359173232\n"
          ]
        }
      ]
    },
    {
      "cell_type": "code",
      "source": [],
      "metadata": {
        "id": "OxlcgOFmgMu-"
      },
      "execution_count": 61,
      "outputs": []
    }
  ]
}