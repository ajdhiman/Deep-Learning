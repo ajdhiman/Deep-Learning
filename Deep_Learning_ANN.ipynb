{
  "nbformat": 4,
  "nbformat_minor": 0,
  "metadata": {
    "colab": {
      "provenance": [],
      "gpuType": "T4",
      "authorship_tag": "ABX9TyNKwBIJR6YnUjCFQchqAFdp",
      "include_colab_link": true
    },
    "kernelspec": {
      "name": "python3",
      "display_name": "Python 3"
    },
    "language_info": {
      "name": "python"
    },
    "accelerator": "GPU"
  },
  "cells": [
    {
      "cell_type": "markdown",
      "metadata": {
        "id": "view-in-github",
        "colab_type": "text"
      },
      "source": [
        "<a href=\"https://colab.research.google.com/github/ajdhiman/Google-Colab/blob/main/Deep_Learning_ANN.ipynb\" target=\"_parent\"><img src=\"https://colab.research.google.com/assets/colab-badge.svg\" alt=\"Open In Colab\"/></a>"
      ]
    },
    {
      "cell_type": "code",
      "execution_count": 1,
      "metadata": {
        "id": "ZNllUnKQKLUK",
        "colab": {
          "base_uri": "https://localhost:8080/"
        },
        "outputId": "e84f56c5-36cb-479c-b582-f9468279a9bc"
      },
      "outputs": [
        {
          "output_type": "stream",
          "name": "stdout",
          "text": [
            "Tensorflow Version: 2.12.0\n"
          ]
        }
      ],
      "source": [
        "import tensorflow as tf\n",
        "print(\"Tensorflow Version:\",tf.__version__)"
      ]
    },
    {
      "cell_type": "code",
      "source": [
        "import numpy as np\n",
        "import matplotlib.pyplot as plt\n",
        "import pandas as pd"
      ],
      "metadata": {
        "id": "kWP4RhNCKb-z"
      },
      "execution_count": 2,
      "outputs": []
    },
    {
      "cell_type": "markdown",
      "source": [
        "**Classification Probem**"
      ],
      "metadata": {
        "id": "f4euhReGXYTl"
      }
    },
    {
      "cell_type": "code",
      "source": [
        "dataset=pd.read_csv(r'Churn_Modelling.csv')\n",
        "dataset.head()"
      ],
      "metadata": {
        "id": "5viizZxlNL1I",
        "colab": {
          "base_uri": "https://localhost:8080/",
          "height": 270
        },
        "outputId": "17b92003-09aa-4541-d6de-4a6565441a1f"
      },
      "execution_count": 3,
      "outputs": [
        {
          "output_type": "execute_result",
          "data": {
            "text/plain": [
              "   RowNumber  CustomerId   Surname  CreditScore Geography  Gender  Age  \\\n",
              "0          1    15634602  Hargrave          619    France  Female   42   \n",
              "1          2    15647311      Hill          608     Spain  Female   41   \n",
              "2          3    15619304      Onio          502    France  Female   42   \n",
              "3          4    15701354      Boni          699    France  Female   39   \n",
              "4          5    15737888  Mitchell          850     Spain  Female   43   \n",
              "\n",
              "   Tenure    Balance  NumOfProducts  HasCrCard  IsActiveMember  \\\n",
              "0       2       0.00              1          1               1   \n",
              "1       1   83807.86              1          0               1   \n",
              "2       8  159660.80              3          1               0   \n",
              "3       1       0.00              2          0               0   \n",
              "4       2  125510.82              1          1               1   \n",
              "\n",
              "   EstimatedSalary  Exited  \n",
              "0        101348.88       1  \n",
              "1        112542.58       0  \n",
              "2        113931.57       1  \n",
              "3         93826.63       0  \n",
              "4         79084.10       0  "
            ],
            "text/html": [
              "\n",
              "  <div id=\"df-efe33c57-77d2-403f-a88f-cab1fb21c9a5\">\n",
              "    <div class=\"colab-df-container\">\n",
              "      <div>\n",
              "<style scoped>\n",
              "    .dataframe tbody tr th:only-of-type {\n",
              "        vertical-align: middle;\n",
              "    }\n",
              "\n",
              "    .dataframe tbody tr th {\n",
              "        vertical-align: top;\n",
              "    }\n",
              "\n",
              "    .dataframe thead th {\n",
              "        text-align: right;\n",
              "    }\n",
              "</style>\n",
              "<table border=\"1\" class=\"dataframe\">\n",
              "  <thead>\n",
              "    <tr style=\"text-align: right;\">\n",
              "      <th></th>\n",
              "      <th>RowNumber</th>\n",
              "      <th>CustomerId</th>\n",
              "      <th>Surname</th>\n",
              "      <th>CreditScore</th>\n",
              "      <th>Geography</th>\n",
              "      <th>Gender</th>\n",
              "      <th>Age</th>\n",
              "      <th>Tenure</th>\n",
              "      <th>Balance</th>\n",
              "      <th>NumOfProducts</th>\n",
              "      <th>HasCrCard</th>\n",
              "      <th>IsActiveMember</th>\n",
              "      <th>EstimatedSalary</th>\n",
              "      <th>Exited</th>\n",
              "    </tr>\n",
              "  </thead>\n",
              "  <tbody>\n",
              "    <tr>\n",
              "      <th>0</th>\n",
              "      <td>1</td>\n",
              "      <td>15634602</td>\n",
              "      <td>Hargrave</td>\n",
              "      <td>619</td>\n",
              "      <td>France</td>\n",
              "      <td>Female</td>\n",
              "      <td>42</td>\n",
              "      <td>2</td>\n",
              "      <td>0.00</td>\n",
              "      <td>1</td>\n",
              "      <td>1</td>\n",
              "      <td>1</td>\n",
              "      <td>101348.88</td>\n",
              "      <td>1</td>\n",
              "    </tr>\n",
              "    <tr>\n",
              "      <th>1</th>\n",
              "      <td>2</td>\n",
              "      <td>15647311</td>\n",
              "      <td>Hill</td>\n",
              "      <td>608</td>\n",
              "      <td>Spain</td>\n",
              "      <td>Female</td>\n",
              "      <td>41</td>\n",
              "      <td>1</td>\n",
              "      <td>83807.86</td>\n",
              "      <td>1</td>\n",
              "      <td>0</td>\n",
              "      <td>1</td>\n",
              "      <td>112542.58</td>\n",
              "      <td>0</td>\n",
              "    </tr>\n",
              "    <tr>\n",
              "      <th>2</th>\n",
              "      <td>3</td>\n",
              "      <td>15619304</td>\n",
              "      <td>Onio</td>\n",
              "      <td>502</td>\n",
              "      <td>France</td>\n",
              "      <td>Female</td>\n",
              "      <td>42</td>\n",
              "      <td>8</td>\n",
              "      <td>159660.80</td>\n",
              "      <td>3</td>\n",
              "      <td>1</td>\n",
              "      <td>0</td>\n",
              "      <td>113931.57</td>\n",
              "      <td>1</td>\n",
              "    </tr>\n",
              "    <tr>\n",
              "      <th>3</th>\n",
              "      <td>4</td>\n",
              "      <td>15701354</td>\n",
              "      <td>Boni</td>\n",
              "      <td>699</td>\n",
              "      <td>France</td>\n",
              "      <td>Female</td>\n",
              "      <td>39</td>\n",
              "      <td>1</td>\n",
              "      <td>0.00</td>\n",
              "      <td>2</td>\n",
              "      <td>0</td>\n",
              "      <td>0</td>\n",
              "      <td>93826.63</td>\n",
              "      <td>0</td>\n",
              "    </tr>\n",
              "    <tr>\n",
              "      <th>4</th>\n",
              "      <td>5</td>\n",
              "      <td>15737888</td>\n",
              "      <td>Mitchell</td>\n",
              "      <td>850</td>\n",
              "      <td>Spain</td>\n",
              "      <td>Female</td>\n",
              "      <td>43</td>\n",
              "      <td>2</td>\n",
              "      <td>125510.82</td>\n",
              "      <td>1</td>\n",
              "      <td>1</td>\n",
              "      <td>1</td>\n",
              "      <td>79084.10</td>\n",
              "      <td>0</td>\n",
              "    </tr>\n",
              "  </tbody>\n",
              "</table>\n",
              "</div>\n",
              "      <button class=\"colab-df-convert\" onclick=\"convertToInteractive('df-efe33c57-77d2-403f-a88f-cab1fb21c9a5')\"\n",
              "              title=\"Convert this dataframe to an interactive table.\"\n",
              "              style=\"display:none;\">\n",
              "        \n",
              "  <svg xmlns=\"http://www.w3.org/2000/svg\" height=\"24px\"viewBox=\"0 0 24 24\"\n",
              "       width=\"24px\">\n",
              "    <path d=\"M0 0h24v24H0V0z\" fill=\"none\"/>\n",
              "    <path d=\"M18.56 5.44l.94 2.06.94-2.06 2.06-.94-2.06-.94-.94-2.06-.94 2.06-2.06.94zm-11 1L8.5 8.5l.94-2.06 2.06-.94-2.06-.94L8.5 2.5l-.94 2.06-2.06.94zm10 10l.94 2.06.94-2.06 2.06-.94-2.06-.94-.94-2.06-.94 2.06-2.06.94z\"/><path d=\"M17.41 7.96l-1.37-1.37c-.4-.4-.92-.59-1.43-.59-.52 0-1.04.2-1.43.59L10.3 9.45l-7.72 7.72c-.78.78-.78 2.05 0 2.83L4 21.41c.39.39.9.59 1.41.59.51 0 1.02-.2 1.41-.59l7.78-7.78 2.81-2.81c.8-.78.8-2.07 0-2.86zM5.41 20L4 18.59l7.72-7.72 1.47 1.35L5.41 20z\"/>\n",
              "  </svg>\n",
              "      </button>\n",
              "      \n",
              "  <style>\n",
              "    .colab-df-container {\n",
              "      display:flex;\n",
              "      flex-wrap:wrap;\n",
              "      gap: 12px;\n",
              "    }\n",
              "\n",
              "    .colab-df-convert {\n",
              "      background-color: #E8F0FE;\n",
              "      border: none;\n",
              "      border-radius: 50%;\n",
              "      cursor: pointer;\n",
              "      display: none;\n",
              "      fill: #1967D2;\n",
              "      height: 32px;\n",
              "      padding: 0 0 0 0;\n",
              "      width: 32px;\n",
              "    }\n",
              "\n",
              "    .colab-df-convert:hover {\n",
              "      background-color: #E2EBFA;\n",
              "      box-shadow: 0px 1px 2px rgba(60, 64, 67, 0.3), 0px 1px 3px 1px rgba(60, 64, 67, 0.15);\n",
              "      fill: #174EA6;\n",
              "    }\n",
              "\n",
              "    [theme=dark] .colab-df-convert {\n",
              "      background-color: #3B4455;\n",
              "      fill: #D2E3FC;\n",
              "    }\n",
              "\n",
              "    [theme=dark] .colab-df-convert:hover {\n",
              "      background-color: #434B5C;\n",
              "      box-shadow: 0px 1px 3px 1px rgba(0, 0, 0, 0.15);\n",
              "      filter: drop-shadow(0px 1px 2px rgba(0, 0, 0, 0.3));\n",
              "      fill: #FFFFFF;\n",
              "    }\n",
              "  </style>\n",
              "\n",
              "      <script>\n",
              "        const buttonEl =\n",
              "          document.querySelector('#df-efe33c57-77d2-403f-a88f-cab1fb21c9a5 button.colab-df-convert');\n",
              "        buttonEl.style.display =\n",
              "          google.colab.kernel.accessAllowed ? 'block' : 'none';\n",
              "\n",
              "        async function convertToInteractive(key) {\n",
              "          const element = document.querySelector('#df-efe33c57-77d2-403f-a88f-cab1fb21c9a5');\n",
              "          const dataTable =\n",
              "            await google.colab.kernel.invokeFunction('convertToInteractive',\n",
              "                                                     [key], {});\n",
              "          if (!dataTable) return;\n",
              "\n",
              "          const docLinkHtml = 'Like what you see? Visit the ' +\n",
              "            '<a target=\"_blank\" href=https://colab.research.google.com/notebooks/data_table.ipynb>data table notebook</a>'\n",
              "            + ' to learn more about interactive tables.';\n",
              "          element.innerHTML = '';\n",
              "          dataTable['output_type'] = 'display_data';\n",
              "          await google.colab.output.renderOutput(dataTable, element);\n",
              "          const docLink = document.createElement('div');\n",
              "          docLink.innerHTML = docLinkHtml;\n",
              "          element.appendChild(docLink);\n",
              "        }\n",
              "      </script>\n",
              "    </div>\n",
              "  </div>\n",
              "  "
            ]
          },
          "metadata": {},
          "execution_count": 3
        }
      ]
    },
    {
      "cell_type": "code",
      "source": [
        "dataset.columns"
      ],
      "metadata": {
        "colab": {
          "base_uri": "https://localhost:8080/"
        },
        "id": "Er0i1RqyKJfA",
        "outputId": "bb81597d-0e62-4efe-8299-81f1525acfc0"
      },
      "execution_count": 4,
      "outputs": [
        {
          "output_type": "execute_result",
          "data": {
            "text/plain": [
              "Index(['RowNumber', 'CustomerId', 'Surname', 'CreditScore', 'Geography',\n",
              "       'Gender', 'Age', 'Tenure', 'Balance', 'NumOfProducts', 'HasCrCard',\n",
              "       'IsActiveMember', 'EstimatedSalary', 'Exited'],\n",
              "      dtype='object')"
            ]
          },
          "metadata": {},
          "execution_count": 4
        }
      ]
    },
    {
      "cell_type": "code",
      "source": [
        "x=dataset.iloc[:,3:13].values\n",
        "x=pd.DataFrame(x,columns=['CreditScore', 'Geography','Gender', 'Age', 'Tenure', 'Balance', 'NumOfProducts', 'HasCrCard','IsActiveMember', 'EstimatedSalary'])\n"
      ],
      "metadata": {
        "id": "xbIvZa-5Coux"
      },
      "execution_count": 5,
      "outputs": []
    },
    {
      "cell_type": "code",
      "source": [
        "y=dataset.iloc[:,-1]\n",
        "y.head()"
      ],
      "metadata": {
        "colab": {
          "base_uri": "https://localhost:8080/"
        },
        "id": "wQXhLvNnCqad",
        "outputId": "e712e6b9-3c3e-412f-e5d3-b9a1894bd9b8"
      },
      "execution_count": 6,
      "outputs": [
        {
          "output_type": "execute_result",
          "data": {
            "text/plain": [
              "0    1\n",
              "1    0\n",
              "2    1\n",
              "3    0\n",
              "4    0\n",
              "Name: Exited, dtype: int64"
            ]
          },
          "metadata": {},
          "execution_count": 6
        }
      ]
    },
    {
      "cell_type": "code",
      "source": [
        "y.value_counts()"
      ],
      "metadata": {
        "colab": {
          "base_uri": "https://localhost:8080/"
        },
        "id": "xMI998DfZOMy",
        "outputId": "8025c98c-0eb2-4802-8f15-47bdf3213726"
      },
      "execution_count": 7,
      "outputs": [
        {
          "output_type": "execute_result",
          "data": {
            "text/plain": [
              "0    7963\n",
              "1    2037\n",
              "Name: Exited, dtype: int64"
            ]
          },
          "metadata": {},
          "execution_count": 7
        }
      ]
    },
    {
      "cell_type": "code",
      "source": [
        "geography=pd.get_dummies(x['Geography'],drop_first=True)\n",
        "gender=pd.get_dummies(x['Gender'],drop_first=True)"
      ],
      "metadata": {
        "id": "B_AAWWF0DllT"
      },
      "execution_count": 8,
      "outputs": []
    },
    {
      "cell_type": "code",
      "source": [
        "x=x.drop(['Geography','Gender'],axis=1)"
      ],
      "metadata": {
        "id": "rDLwgN5xG18a"
      },
      "execution_count": 9,
      "outputs": []
    },
    {
      "cell_type": "code",
      "source": [
        "x=pd.concat([x,geography,gender],axis=1)"
      ],
      "metadata": {
        "id": "7ANcSamqG9Ox"
      },
      "execution_count": 10,
      "outputs": []
    },
    {
      "cell_type": "code",
      "source": [
        "x.head()"
      ],
      "metadata": {
        "colab": {
          "base_uri": "https://localhost:8080/",
          "height": 250
        },
        "id": "XvpOLljOG9-S",
        "outputId": "fe5f958e-d71b-483a-947a-e9c398cc174f"
      },
      "execution_count": 11,
      "outputs": [
        {
          "output_type": "execute_result",
          "data": {
            "text/plain": [
              "  CreditScore Age Tenure    Balance NumOfProducts HasCrCard IsActiveMember  \\\n",
              "0         619  42      2        0.0             1         1              1   \n",
              "1         608  41      1   83807.86             1         0              1   \n",
              "2         502  42      8   159660.8             3         1              0   \n",
              "3         699  39      1        0.0             2         0              0   \n",
              "4         850  43      2  125510.82             1         1              1   \n",
              "\n",
              "  EstimatedSalary  Germany  Spain  Male  \n",
              "0       101348.88        0      0     0  \n",
              "1       112542.58        0      1     0  \n",
              "2       113931.57        0      0     0  \n",
              "3        93826.63        0      0     0  \n",
              "4         79084.1        0      1     0  "
            ],
            "text/html": [
              "\n",
              "  <div id=\"df-fcb38ab8-07cb-4736-ab95-181346a50783\">\n",
              "    <div class=\"colab-df-container\">\n",
              "      <div>\n",
              "<style scoped>\n",
              "    .dataframe tbody tr th:only-of-type {\n",
              "        vertical-align: middle;\n",
              "    }\n",
              "\n",
              "    .dataframe tbody tr th {\n",
              "        vertical-align: top;\n",
              "    }\n",
              "\n",
              "    .dataframe thead th {\n",
              "        text-align: right;\n",
              "    }\n",
              "</style>\n",
              "<table border=\"1\" class=\"dataframe\">\n",
              "  <thead>\n",
              "    <tr style=\"text-align: right;\">\n",
              "      <th></th>\n",
              "      <th>CreditScore</th>\n",
              "      <th>Age</th>\n",
              "      <th>Tenure</th>\n",
              "      <th>Balance</th>\n",
              "      <th>NumOfProducts</th>\n",
              "      <th>HasCrCard</th>\n",
              "      <th>IsActiveMember</th>\n",
              "      <th>EstimatedSalary</th>\n",
              "      <th>Germany</th>\n",
              "      <th>Spain</th>\n",
              "      <th>Male</th>\n",
              "    </tr>\n",
              "  </thead>\n",
              "  <tbody>\n",
              "    <tr>\n",
              "      <th>0</th>\n",
              "      <td>619</td>\n",
              "      <td>42</td>\n",
              "      <td>2</td>\n",
              "      <td>0.0</td>\n",
              "      <td>1</td>\n",
              "      <td>1</td>\n",
              "      <td>1</td>\n",
              "      <td>101348.88</td>\n",
              "      <td>0</td>\n",
              "      <td>0</td>\n",
              "      <td>0</td>\n",
              "    </tr>\n",
              "    <tr>\n",
              "      <th>1</th>\n",
              "      <td>608</td>\n",
              "      <td>41</td>\n",
              "      <td>1</td>\n",
              "      <td>83807.86</td>\n",
              "      <td>1</td>\n",
              "      <td>0</td>\n",
              "      <td>1</td>\n",
              "      <td>112542.58</td>\n",
              "      <td>0</td>\n",
              "      <td>1</td>\n",
              "      <td>0</td>\n",
              "    </tr>\n",
              "    <tr>\n",
              "      <th>2</th>\n",
              "      <td>502</td>\n",
              "      <td>42</td>\n",
              "      <td>8</td>\n",
              "      <td>159660.8</td>\n",
              "      <td>3</td>\n",
              "      <td>1</td>\n",
              "      <td>0</td>\n",
              "      <td>113931.57</td>\n",
              "      <td>0</td>\n",
              "      <td>0</td>\n",
              "      <td>0</td>\n",
              "    </tr>\n",
              "    <tr>\n",
              "      <th>3</th>\n",
              "      <td>699</td>\n",
              "      <td>39</td>\n",
              "      <td>1</td>\n",
              "      <td>0.0</td>\n",
              "      <td>2</td>\n",
              "      <td>0</td>\n",
              "      <td>0</td>\n",
              "      <td>93826.63</td>\n",
              "      <td>0</td>\n",
              "      <td>0</td>\n",
              "      <td>0</td>\n",
              "    </tr>\n",
              "    <tr>\n",
              "      <th>4</th>\n",
              "      <td>850</td>\n",
              "      <td>43</td>\n",
              "      <td>2</td>\n",
              "      <td>125510.82</td>\n",
              "      <td>1</td>\n",
              "      <td>1</td>\n",
              "      <td>1</td>\n",
              "      <td>79084.1</td>\n",
              "      <td>0</td>\n",
              "      <td>1</td>\n",
              "      <td>0</td>\n",
              "    </tr>\n",
              "  </tbody>\n",
              "</table>\n",
              "</div>\n",
              "      <button class=\"colab-df-convert\" onclick=\"convertToInteractive('df-fcb38ab8-07cb-4736-ab95-181346a50783')\"\n",
              "              title=\"Convert this dataframe to an interactive table.\"\n",
              "              style=\"display:none;\">\n",
              "        \n",
              "  <svg xmlns=\"http://www.w3.org/2000/svg\" height=\"24px\"viewBox=\"0 0 24 24\"\n",
              "       width=\"24px\">\n",
              "    <path d=\"M0 0h24v24H0V0z\" fill=\"none\"/>\n",
              "    <path d=\"M18.56 5.44l.94 2.06.94-2.06 2.06-.94-2.06-.94-.94-2.06-.94 2.06-2.06.94zm-11 1L8.5 8.5l.94-2.06 2.06-.94-2.06-.94L8.5 2.5l-.94 2.06-2.06.94zm10 10l.94 2.06.94-2.06 2.06-.94-2.06-.94-.94-2.06-.94 2.06-2.06.94z\"/><path d=\"M17.41 7.96l-1.37-1.37c-.4-.4-.92-.59-1.43-.59-.52 0-1.04.2-1.43.59L10.3 9.45l-7.72 7.72c-.78.78-.78 2.05 0 2.83L4 21.41c.39.39.9.59 1.41.59.51 0 1.02-.2 1.41-.59l7.78-7.78 2.81-2.81c.8-.78.8-2.07 0-2.86zM5.41 20L4 18.59l7.72-7.72 1.47 1.35L5.41 20z\"/>\n",
              "  </svg>\n",
              "      </button>\n",
              "      \n",
              "  <style>\n",
              "    .colab-df-container {\n",
              "      display:flex;\n",
              "      flex-wrap:wrap;\n",
              "      gap: 12px;\n",
              "    }\n",
              "\n",
              "    .colab-df-convert {\n",
              "      background-color: #E8F0FE;\n",
              "      border: none;\n",
              "      border-radius: 50%;\n",
              "      cursor: pointer;\n",
              "      display: none;\n",
              "      fill: #1967D2;\n",
              "      height: 32px;\n",
              "      padding: 0 0 0 0;\n",
              "      width: 32px;\n",
              "    }\n",
              "\n",
              "    .colab-df-convert:hover {\n",
              "      background-color: #E2EBFA;\n",
              "      box-shadow: 0px 1px 2px rgba(60, 64, 67, 0.3), 0px 1px 3px 1px rgba(60, 64, 67, 0.15);\n",
              "      fill: #174EA6;\n",
              "    }\n",
              "\n",
              "    [theme=dark] .colab-df-convert {\n",
              "      background-color: #3B4455;\n",
              "      fill: #D2E3FC;\n",
              "    }\n",
              "\n",
              "    [theme=dark] .colab-df-convert:hover {\n",
              "      background-color: #434B5C;\n",
              "      box-shadow: 0px 1px 3px 1px rgba(0, 0, 0, 0.15);\n",
              "      filter: drop-shadow(0px 1px 2px rgba(0, 0, 0, 0.3));\n",
              "      fill: #FFFFFF;\n",
              "    }\n",
              "  </style>\n",
              "\n",
              "      <script>\n",
              "        const buttonEl =\n",
              "          document.querySelector('#df-fcb38ab8-07cb-4736-ab95-181346a50783 button.colab-df-convert');\n",
              "        buttonEl.style.display =\n",
              "          google.colab.kernel.accessAllowed ? 'block' : 'none';\n",
              "\n",
              "        async function convertToInteractive(key) {\n",
              "          const element = document.querySelector('#df-fcb38ab8-07cb-4736-ab95-181346a50783');\n",
              "          const dataTable =\n",
              "            await google.colab.kernel.invokeFunction('convertToInteractive',\n",
              "                                                     [key], {});\n",
              "          if (!dataTable) return;\n",
              "\n",
              "          const docLinkHtml = 'Like what you see? Visit the ' +\n",
              "            '<a target=\"_blank\" href=https://colab.research.google.com/notebooks/data_table.ipynb>data table notebook</a>'\n",
              "            + ' to learn more about interactive tables.';\n",
              "          element.innerHTML = '';\n",
              "          dataTable['output_type'] = 'display_data';\n",
              "          await google.colab.output.renderOutput(dataTable, element);\n",
              "          const docLink = document.createElement('div');\n",
              "          docLink.innerHTML = docLinkHtml;\n",
              "          element.appendChild(docLink);\n",
              "        }\n",
              "      </script>\n",
              "    </div>\n",
              "  </div>\n",
              "  "
            ]
          },
          "metadata": {},
          "execution_count": 11
        }
      ]
    },
    {
      "cell_type": "code",
      "source": [
        "from sklearn.model_selection import train_test_split\n",
        "x_train,x_test,y_train,y_test=train_test_split(x,y,test_size=0.3,random_state=0)"
      ],
      "metadata": {
        "id": "905O2BdqMbij"
      },
      "execution_count": 12,
      "outputs": []
    },
    {
      "cell_type": "code",
      "source": [
        "o_features=[f for f in x_train.columns if x_train[f].dtype =='O']\n",
        "for col in o_features:\n",
        "    x_train[col] = x_train[col].astype(float)\n",
        "    x_test[col] = x_test[col].astype(float)\n"
      ],
      "metadata": {
        "id": "4JbFjXt_VHfD"
      },
      "execution_count": 13,
      "outputs": []
    },
    {
      "cell_type": "code",
      "source": [
        "from sklearn.preprocessing import StandardScaler\n",
        "scaler = StandardScaler()\n",
        "x_train_scaled = scaler.fit_transform(x_train)\n",
        "x_test_scaled= scaler.transform(x_test)"
      ],
      "metadata": {
        "id": "b3mq9nCpMsC1"
      },
      "execution_count": 14,
      "outputs": []
    },
    {
      "cell_type": "code",
      "source": [
        "from tensorflow.keras.models import Sequential\n",
        "from tensorflow.keras.layers import Dense\n",
        "from tensorflow.keras.layers import LeakyReLU, PReLU, ReLU\n",
        "from tensorflow.keras.layers import Dropout"
      ],
      "metadata": {
        "id": "8C9M0ugaNeOy"
      },
      "execution_count": 15,
      "outputs": []
    },
    {
      "cell_type": "code",
      "source": [
        "classifier=Sequential()"
      ],
      "metadata": {
        "id": "bhjAQ1NwNl7U"
      },
      "execution_count": 16,
      "outputs": []
    },
    {
      "cell_type": "code",
      "source": [
        "classifier.add(Dense(units=10,activation='relu', input_shape=(11,)))"
      ],
      "metadata": {
        "id": "g5vh4cJyTPj9"
      },
      "execution_count": 17,
      "outputs": []
    },
    {
      "cell_type": "code",
      "source": [
        "classifier.add(Dense(units=10,activation='relu'))"
      ],
      "metadata": {
        "id": "FRoSGfRXTp9p"
      },
      "execution_count": 18,
      "outputs": []
    },
    {
      "cell_type": "code",
      "source": [
        "classifier.add(Dense(units=7,activation='relu'))"
      ],
      "metadata": {
        "id": "jNBv03GCWUIh"
      },
      "execution_count": 19,
      "outputs": []
    },
    {
      "cell_type": "code",
      "source": [
        "classifier.add(Dense(units=1,activation='sigmoid'))"
      ],
      "metadata": {
        "id": "BHT1rUGlNteK"
      },
      "execution_count": 20,
      "outputs": []
    },
    {
      "cell_type": "code",
      "source": [
        "classifier.summary()"
      ],
      "metadata": {
        "colab": {
          "base_uri": "https://localhost:8080/"
        },
        "id": "_UrMzLIEN_IM",
        "outputId": "62292ba5-b13e-45ac-d78f-04cdb043f515"
      },
      "execution_count": 21,
      "outputs": [
        {
          "output_type": "stream",
          "name": "stdout",
          "text": [
            "Model: \"sequential\"\n",
            "_________________________________________________________________\n",
            " Layer (type)                Output Shape              Param #   \n",
            "=================================================================\n",
            " dense (Dense)               (None, 10)                120       \n",
            "                                                                 \n",
            " dense_1 (Dense)             (None, 10)                110       \n",
            "                                                                 \n",
            " dense_2 (Dense)             (None, 7)                 77        \n",
            "                                                                 \n",
            " dense_3 (Dense)             (None, 1)                 8         \n",
            "                                                                 \n",
            "=================================================================\n",
            "Total params: 315\n",
            "Trainable params: 315\n",
            "Non-trainable params: 0\n",
            "_________________________________________________________________\n"
          ]
        }
      ]
    },
    {
      "cell_type": "code",
      "source": [
        "opt=tf.keras.optimizers.Adam(learning_rate=0.01)"
      ],
      "metadata": {
        "id": "AaqOiNCEOXNJ"
      },
      "execution_count": 22,
      "outputs": []
    },
    {
      "cell_type": "code",
      "source": [
        "classifier.compile(optimizer=opt,loss='binary_crossentropy',metrics=['accuracy'])"
      ],
      "metadata": {
        "id": "wPGjrh8pNwz4"
      },
      "execution_count": 23,
      "outputs": []
    },
    {
      "cell_type": "code",
      "source": [
        "early_stopping=tf.keras.callbacks.EarlyStopping(monitor=\"val_loss\",min_delta=0.0001,patience=5,verbose=1,mode=\"auto\",baseline=None,restore_best_weights=False)"
      ],
      "metadata": {
        "id": "JNoa-v4RPGCi"
      },
      "execution_count": 24,
      "outputs": []
    },
    {
      "cell_type": "code",
      "source": [
        "from imblearn.over_sampling import SMOTE\n",
        "x_train = np.array(x_train)\n",
        "y_train = np.array(y_train)\n",
        "smote = SMOTE()\n",
        "X_resampled, y_resampled = smote.fit_resample(x_train, y_train)"
      ],
      "metadata": {
        "id": "xry0YN6Mbe6q"
      },
      "execution_count": 25,
      "outputs": []
    },
    {
      "cell_type": "code",
      "source": [
        "#model_history=classifier.fit(np.array(x_train),y_train,validation_split=0.33,batch_size=10,epochs=100,callbacks=early_stopping)\n",
        "model_history=classifier.fit(np.array(x_train_scaled),y_train,validation_data=(x_test_scaled,y_test),batch_size=10,epochs=100,callbacks=early_stopping)"
      ],
      "metadata": {
        "colab": {
          "base_uri": "https://localhost:8080/"
        },
        "id": "BXjowk6LQySV",
        "outputId": "fef7f7d4-9a9f-41ef-a048-46c3bc17882c"
      },
      "execution_count": 26,
      "outputs": [
        {
          "output_type": "stream",
          "name": "stdout",
          "text": [
            "Epoch 1/100\n",
            "700/700 [==============================] - 15s 6ms/step - loss: 0.4341 - accuracy: 0.8139 - val_loss: 0.4115 - val_accuracy: 0.8270\n",
            "Epoch 2/100\n",
            "700/700 [==============================] - 3s 4ms/step - loss: 0.3857 - accuracy: 0.8354 - val_loss: 0.3583 - val_accuracy: 0.8573\n",
            "Epoch 3/100\n",
            "700/700 [==============================] - 4s 5ms/step - loss: 0.3623 - accuracy: 0.8534 - val_loss: 0.3594 - val_accuracy: 0.8590\n",
            "Epoch 4/100\n",
            "700/700 [==============================] - 3s 4ms/step - loss: 0.3569 - accuracy: 0.8541 - val_loss: 0.3597 - val_accuracy: 0.8520\n",
            "Epoch 5/100\n",
            "700/700 [==============================] - 3s 4ms/step - loss: 0.3530 - accuracy: 0.8561 - val_loss: 0.3493 - val_accuracy: 0.8577\n",
            "Epoch 6/100\n",
            "700/700 [==============================] - 3s 4ms/step - loss: 0.3497 - accuracy: 0.8590 - val_loss: 0.3519 - val_accuracy: 0.8627\n",
            "Epoch 7/100\n",
            "700/700 [==============================] - 3s 4ms/step - loss: 0.3488 - accuracy: 0.8591 - val_loss: 0.3522 - val_accuracy: 0.8553\n",
            "Epoch 8/100\n",
            "700/700 [==============================] - 3s 4ms/step - loss: 0.3462 - accuracy: 0.8583 - val_loss: 0.3483 - val_accuracy: 0.8590\n",
            "Epoch 9/100\n",
            "700/700 [==============================] - 3s 4ms/step - loss: 0.3468 - accuracy: 0.8571 - val_loss: 0.3546 - val_accuracy: 0.8567\n",
            "Epoch 10/100\n",
            "700/700 [==============================] - 3s 4ms/step - loss: 0.3464 - accuracy: 0.8593 - val_loss: 0.3507 - val_accuracy: 0.8603\n",
            "Epoch 11/100\n",
            "700/700 [==============================] - 3s 4ms/step - loss: 0.3436 - accuracy: 0.8623 - val_loss: 0.3419 - val_accuracy: 0.8583\n",
            "Epoch 12/100\n",
            "700/700 [==============================] - 4s 6ms/step - loss: 0.3458 - accuracy: 0.8604 - val_loss: 0.3507 - val_accuracy: 0.8567\n",
            "Epoch 13/100\n",
            "700/700 [==============================] - 3s 4ms/step - loss: 0.3432 - accuracy: 0.8596 - val_loss: 0.3472 - val_accuracy: 0.8610\n",
            "Epoch 14/100\n",
            "700/700 [==============================] - 3s 4ms/step - loss: 0.3418 - accuracy: 0.8616 - val_loss: 0.3433 - val_accuracy: 0.8583\n",
            "Epoch 15/100\n",
            "700/700 [==============================] - 3s 4ms/step - loss: 0.3409 - accuracy: 0.8627 - val_loss: 0.3422 - val_accuracy: 0.8570\n",
            "Epoch 16/100\n",
            "700/700 [==============================] - 4s 5ms/step - loss: 0.3408 - accuracy: 0.8604 - val_loss: 0.3418 - val_accuracy: 0.8593\n",
            "Epoch 17/100\n",
            "700/700 [==============================] - 3s 4ms/step - loss: 0.3412 - accuracy: 0.8633 - val_loss: 0.3499 - val_accuracy: 0.8567\n",
            "Epoch 18/100\n",
            "700/700 [==============================] - 3s 4ms/step - loss: 0.3437 - accuracy: 0.8577 - val_loss: 0.3468 - val_accuracy: 0.8560\n",
            "Epoch 19/100\n",
            "700/700 [==============================] - 3s 4ms/step - loss: 0.3409 - accuracy: 0.8609 - val_loss: 0.3400 - val_accuracy: 0.8583\n",
            "Epoch 20/100\n",
            "700/700 [==============================] - 3s 4ms/step - loss: 0.3390 - accuracy: 0.8601 - val_loss: 0.3426 - val_accuracy: 0.8613\n",
            "Epoch 21/100\n",
            "700/700 [==============================] - 3s 4ms/step - loss: 0.3381 - accuracy: 0.8643 - val_loss: 0.3653 - val_accuracy: 0.8580\n",
            "Epoch 22/100\n",
            "700/700 [==============================] - 3s 4ms/step - loss: 0.3369 - accuracy: 0.8619 - val_loss: 0.3542 - val_accuracy: 0.8500\n",
            "Epoch 23/100\n",
            "700/700 [==============================] - 3s 4ms/step - loss: 0.3385 - accuracy: 0.8616 - val_loss: 0.3447 - val_accuracy: 0.8607\n",
            "Epoch 24/100\n",
            "700/700 [==============================] - 4s 5ms/step - loss: 0.3386 - accuracy: 0.8621 - val_loss: 0.3462 - val_accuracy: 0.8577\n",
            "Epoch 24: early stopping\n"
          ]
        }
      ]
    },
    {
      "cell_type": "code",
      "source": [
        "model_history.history.keys()"
      ],
      "metadata": {
        "colab": {
          "base_uri": "https://localhost:8080/"
        },
        "id": "5h8c4XcuSbyB",
        "outputId": "51461a00-5792-419c-bacb-cd387313f19a"
      },
      "execution_count": 27,
      "outputs": [
        {
          "output_type": "execute_result",
          "data": {
            "text/plain": [
              "dict_keys(['loss', 'accuracy', 'val_loss', 'val_accuracy'])"
            ]
          },
          "metadata": {},
          "execution_count": 27
        }
      ]
    },
    {
      "cell_type": "code",
      "source": [
        "plt.plot(model_history.history['accuracy'])\n",
        "plt.plot(model_history.history['val_accuracy'])\n",
        "plt.legend(['accuracy','val_accuracy'])\n",
        "plt.show"
      ],
      "metadata": {
        "colab": {
          "base_uri": "https://localhost:8080/",
          "height": 447
        },
        "id": "u_WFFexVSgf0",
        "outputId": "de00ae78-79ed-4306-8f4d-62d755f21b37"
      },
      "execution_count": 28,
      "outputs": [
        {
          "output_type": "execute_result",
          "data": {
            "text/plain": [
              "<function matplotlib.pyplot.show(close=None, block=None)>"
            ]
          },
          "metadata": {},
          "execution_count": 28
        },
        {
          "output_type": "display_data",
          "data": {
            "text/plain": [
              "<Figure size 640x480 with 1 Axes>"
            ],
            "image/png": "[encoded data removed]"
          },
          "metadata": {}
        }
      ]
    },
    {
      "cell_type": "code",
      "source": [
        "y_pred=classifier.predict(x_test_scaled)\n",
        "y_pred=(y_pred>=0.5)"
      ],
      "metadata": {
        "colab": {
          "base_uri": "https://localhost:8080/"
        },
        "id": "b9P1FgHtT3cO",
        "outputId": "7a830611-bf6a-49a4-b68d-c6b501551f02"
      },
      "execution_count": 29,
      "outputs": [
        {
          "output_type": "stream",
          "name": "stdout",
          "text": [
            "94/94 [==============================] - 0s 1ms/step\n"
          ]
        }
      ]
    },
    {
      "cell_type": "code",
      "source": [
        "from sklearn.metrics import accuracy_score,confusion_matrix\n",
        "score=accuracy_score(y_pred,y_test)\n",
        "cm=confusion_matrix(y_pred,y_test)"
      ],
      "metadata": {
        "id": "2enERuDOXpXC"
      },
      "execution_count": 30,
      "outputs": []
    },
    {
      "cell_type": "code",
      "source": [
        "unique_values, counts = np.unique(y_pred, return_counts=True)\n",
        "for value, count in zip(unique_values, counts):\n",
        "  print(f\"{value}: {count}\")"
      ],
      "metadata": {
        "colab": {
          "base_uri": "https://localhost:8080/"
        },
        "id": "3kOEOE9Oc4ri",
        "outputId": "44721b6e-92ae-4c2e-cb6b-6a5fccf720a8"
      },
      "execution_count": 31,
      "outputs": [
        {
          "output_type": "stream",
          "name": "stdout",
          "text": [
            "False: 2632\n",
            "True: 368\n"
          ]
        }
      ]
    },
    {
      "cell_type": "code",
      "source": [
        "cm"
      ],
      "metadata": {
        "colab": {
          "base_uri": "https://localhost:8080/"
        },
        "id": "PcfDbeJ5Y6AU",
        "outputId": "1fdafbf1-425b-4f6b-a347-aeacf60c0471"
      },
      "execution_count": 32,
      "outputs": [
        {
          "output_type": "execute_result",
          "data": {
            "text/plain": [
              "array([[2292,  340],\n",
              "       [  87,  281]])"
            ]
          },
          "metadata": {},
          "execution_count": 32
        }
      ]
    },
    {
      "cell_type": "code",
      "source": [
        "score"
      ],
      "metadata": {
        "colab": {
          "base_uri": "https://localhost:8080/"
        },
        "id": "D3juXfmQY7L_",
        "outputId": "2fbf4c58-fb1c-41e5-b3e7-2b0dd5ce2d6b"
      },
      "execution_count": 33,
      "outputs": [
        {
          "output_type": "execute_result",
          "data": {
            "text/plain": [
              "0.8576666666666667"
            ]
          },
          "metadata": {},
          "execution_count": 33
        }
      ]
    },
    {
      "cell_type": "code",
      "source": [
        "classifier.get_weights()"
      ],
      "metadata": {
        "colab": {
          "base_uri": "https://localhost:8080/"
        },
        "id": "qfNYYTOkazJu",
        "outputId": "8de25061-bd9c-4309-a5b2-613b5407d750"
      },
      "execution_count": 34,
      "outputs": [
        {
          "output_type": "execute_result",
          "data": {
            "text/plain": [
              "[array([[ 0.3037683 ,  0.10485292, -0.56049234,  0.51156986,  0.0631545 ,\n",
              "          1.9712732 , -0.3341999 ,  0.1180193 , -0.03224332,  0.9404255 ],\n",
              "        [-0.03806093, -0.5019086 ,  0.96530646, -1.3576623 , -2.7327325 ,\n",
              "         -0.07600752,  2.1307635 ,  1.3510425 , -2.7947068 , -2.0796149 ],\n",
              "        [-0.28620383, -0.2774258 ,  0.05475772, -1.3021997 ,  0.6684208 ,\n",
              "          0.79207885, -0.05122683,  1.3646957 ,  0.01805997, -0.34074283],\n",
              "        [ 1.2459095 , -1.7590926 , -0.991654  ,  2.0655065 ,  0.47797662,\n",
              "         -1.1913915 ,  0.2215262 ,  0.16632861,  0.09429524, -0.45587522],\n",
              "        [ 3.4071581 , -0.06117446, -3.8995726 , -0.93158984, -0.0606834 ,\n",
              "         -0.03451522, -0.2829471 , -0.41356137, -0.00991694, -1.6681621 ],\n",
              "        [ 0.30921432,  0.23012656,  0.31821838,  0.4125872 , -0.3168254 ,\n",
              "          0.12294401, -0.23857053,  1.1994591 ,  0.19806986,  1.30148   ],\n",
              "        [-0.16232392,  2.1677032 , -1.3271819 ,  0.57123166, -1.0847236 ,\n",
              "         -0.6403517 ,  1.2876433 ,  2.014012  , -0.45291707, -0.8373494 ],\n",
              "        [ 0.40011224,  0.5134984 ,  0.3229781 ,  1.6382985 , -1.166981  ,\n",
              "         -0.65137005,  0.01919483, -0.09883471,  0.27817062,  0.39460137],\n",
              "        [-0.4422096 , -0.06879206,  0.8936615 ,  0.4486553 , -1.0504278 ,\n",
              "         -0.23331052, -0.30017135, -0.9111625 , -0.2502333 ,  1.8140017 ],\n",
              "        [ 0.02193448,  0.6045653 , -0.47491008, -1.2715379 , -0.84445995,\n",
              "          0.4843516 ,  0.20468152, -0.44067374, -0.12149496,  0.98312134],\n",
              "        [ 0.05754826,  0.5605206 , -0.34978405, -0.5799785 , -1.0267882 ,\n",
              "          0.5688064 , -0.09330811,  0.28513023,  0.5004763 , -0.8514963 ]],\n",
              "       dtype=float32),\n",
              " array([-1.7211903 , -1.2930123 ,  1.0513377 , -0.20962915, -0.3262612 ,\n",
              "        -3.1617332 , -3.5447106 , -1.6136117 ,  3.3341355 , -1.2535759 ],\n",
              "       dtype=float32),\n",
              " array([[-4.7664136e-01,  1.5395675e+00,  1.3139265e+00, -9.9275672e-01,\n",
              "         -1.3278906e+00, -6.8615073e-01,  1.1721303e+00, -1.4048867e+00,\n",
              "         -7.6077735e-01, -2.9946280e-01],\n",
              "        [ 3.6565825e-01, -2.0406392e-01, -3.5286987e+00,  2.7346763e-01,\n",
              "          4.0788656e-01,  6.5598392e-01, -1.9279733e-01, -1.5257571e+00,\n",
              "          7.8170764e-01,  3.0816028e-01],\n",
              "        [-1.3232143e+00, -9.6365678e-01, -2.8758908e-02, -9.3765908e-01,\n",
              "         -3.3062017e+00, -2.0834851e+00,  1.0890604e+00, -4.2677197e-01,\n",
              "         -1.1284128e+00, -1.2794815e+00],\n",
              "        [ 1.0064788e+00, -8.3880913e-01, -1.3880335e+00, -1.7782723e+00,\n",
              "         -2.3653736e+00,  1.0461351e+00,  4.8125178e-02, -1.3371788e+00,\n",
              "         -3.5996732e-01,  2.4842270e-01],\n",
              "        [-4.7564018e-01,  3.3866951e-01, -8.5285693e-02,  1.2079855e+00,\n",
              "         -9.5770711e-01, -1.8599075e+00, -1.4619963e+00, -2.0119351e-01,\n",
              "         -4.9388353e-02, -1.6963734e-01],\n",
              "        [ 9.0816310e-03,  3.1781691e-01, -1.6670488e+00, -1.4518088e-01,\n",
              "          1.4520502e+00, -2.1684711e+00,  1.9582974e+00,  1.4965488e-03,\n",
              "          3.4917355e-01,  5.4565954e-01],\n",
              "        [ 3.6020589e-01, -1.0605106e+00, -1.3832624e-01, -1.3978391e+00,\n",
              "          6.4824396e-01, -1.8464609e+00, -1.6080873e+00,  1.5851119e+00,\n",
              "          6.8212521e-01,  1.7140380e-01],\n",
              "        [ 7.9643768e-01, -1.2179139e+00, -1.2278041e+00, -1.2183952e+00,\n",
              "         -1.4576627e-01,  1.0090383e+00, -4.7313541e-01,  8.4748572e-01,\n",
              "         -6.2176894e-02,  4.4073433e-02],\n",
              "        [ 1.0109097e+00, -6.5413290e-01,  4.7164103e-01, -2.6049240e-02,\n",
              "          3.1124473e-01,  3.2640833e-01, -1.9320431e+00,  1.0461382e+00,\n",
              "         -6.0803294e-01,  1.5535339e+00],\n",
              "        [ 3.8218001e-01, -6.6323107e-01, -2.8030005e-01, -1.4700037e+00,\n",
              "          1.4094943e+00, -1.2756966e+00, -7.7629459e-01, -2.7682254e+00,\n",
              "         -2.1549559e-01, -7.6753038e-01]], dtype=float32),\n",
              " array([ 0.3144125 , -1.7645819 , -2.395828  , -0.34791893,  0.8579931 ,\n",
              "         0.09097309,  0.77378964, -0.02895609, -0.8910797 ,  1.9322355 ],\n",
              "       dtype=float32),\n",
              " array([[-0.7830025 , -1.8188273 , -0.25810334, -0.8622131 , -0.9233563 ,\n",
              "          0.02694232,  0.14005287],\n",
              "        [-0.21488392,  0.5953366 , -0.26471058, -0.8663358 ,  0.5295274 ,\n",
              "          1.5654474 , -1.8153905 ],\n",
              "        [ 0.06407685, -0.21069312, -0.01123043, -0.17022632, -0.5856214 ,\n",
              "          1.0017264 , -1.1824294 ],\n",
              "        [-0.04964302, -0.29959354, -0.35069764,  0.02997887, -0.38678554,\n",
              "         -0.81294256,  0.6439424 ],\n",
              "        [ 1.0420029 ,  0.9784019 , -0.24660447,  0.16947109, -0.24418518,\n",
              "          0.15551072,  0.95214593],\n",
              "        [-0.18819678, -0.59292793, -0.12586962, -0.40373626, -0.71235234,\n",
              "         -1.1617692 ,  0.8420667 ],\n",
              "        [-0.41021642,  0.4635405 , -0.8744259 , -1.0035033 , -0.582206  ,\n",
              "          0.45958185, -1.6625665 ],\n",
              "        [-0.27060208, -0.15083174, -0.10598192, -0.33440962, -0.8484141 ,\n",
              "         -2.6476507 ,  0.50588894],\n",
              "        [ 0.07764652, -0.27085567, -0.24798399, -0.0909759 , -0.16355422,\n",
              "         -0.486444  ,  0.23756856],\n",
              "        [-1.1537577 , -0.50091225, -0.34343544, -0.989633  , -1.5065417 ,\n",
              "         -0.6049883 ,  0.45969632]], dtype=float32),\n",
              " array([-1.3366307 ,  0.36248535, -0.4467186 , -0.48939285, -0.01147027,\n",
              "         0.21019082,  0.43386388], dtype=float32),\n",
              " array([[ 0.03180418],\n",
              "        [ 0.2397132 ],\n",
              "        [-0.08619101],\n",
              "        [ 0.22495605],\n",
              "        [ 0.07450135],\n",
              "        [ 0.21623926],\n",
              "        [-0.24168822]], dtype=float32),\n",
              " array([-0.7968998], dtype=float32)]"
            ]
          },
          "metadata": {},
          "execution_count": 34
        }
      ]
    },
    {
      "cell_type": "code",
      "source": [
        "classifier.save_weights('model_weights.h5')"
      ],
      "metadata": {
        "id": "TmEEhi4qa_3O"
      },
      "execution_count": 35,
      "outputs": []
    },
    {
      "cell_type": "markdown",
      "source": [
        "**Regression Problem**"
      ],
      "metadata": {
        "id": "nLy8lRhZXlpD"
      }
    },
    {
      "cell_type": "code",
      "source": [],
      "metadata": {
        "id": "UqmHhUxQURuf"
      },
      "execution_count": 35,
      "outputs": []
    }
  ]
}